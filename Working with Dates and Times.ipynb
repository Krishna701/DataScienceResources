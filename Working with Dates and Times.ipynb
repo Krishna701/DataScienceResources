{
 "cells": [
  {
   "cell_type": "code",
   "execution_count": 1,
   "metadata": {},
   "outputs": [],
   "source": [
    "import pandas as pd\n",
    "import datetime as dt"
   ]
  },
  {
   "cell_type": "markdown",
   "metadata": {},
   "source": [
    "## Review of Python's `datetime` Module"
   ]
  },
  {
   "cell_type": "code",
   "execution_count": 3,
   "metadata": {},
   "outputs": [],
   "source": [
    "someday = dt.date(2010, 1, 20)"
   ]
  },
  {
   "cell_type": "code",
   "execution_count": 4,
   "metadata": {},
   "outputs": [
    {
     "data": {
      "text/plain": [
       "20"
      ]
     },
     "execution_count": 4,
     "metadata": {},
     "output_type": "execute_result"
    }
   ],
   "source": [
    "someday.year\n",
    "someday.month\n",
    "someday.day"
   ]
  },
  {
   "cell_type": "code",
   "execution_count": 6,
   "metadata": {},
   "outputs": [
    {
     "data": {
      "text/plain": [
       "'2010-01-20'"
      ]
     },
     "execution_count": 6,
     "metadata": {},
     "output_type": "execute_result"
    }
   ],
   "source": [
    "str(someday)"
   ]
  },
  {
   "cell_type": "code",
   "execution_count": 7,
   "metadata": {},
   "outputs": [
    {
     "data": {
      "text/plain": [
       "'2010-01-10 17:13:00'"
      ]
     },
     "execution_count": 7,
     "metadata": {},
     "output_type": "execute_result"
    }
   ],
   "source": [
    "str(dt.datetime(2010, 1, 10, 17, 13))"
   ]
  },
  {
   "cell_type": "code",
   "execution_count": 9,
   "metadata": {},
   "outputs": [],
   "source": [
    "sometime = dt.datetime(2010, 1, 10, 17, 13, 57)"
   ]
  },
  {
   "cell_type": "code",
   "execution_count": 10,
   "metadata": {},
   "outputs": [
    {
     "data": {
      "text/plain": [
       "57"
      ]
     },
     "execution_count": 10,
     "metadata": {},
     "output_type": "execute_result"
    }
   ],
   "source": [
    "sometime.year\n",
    "sometime.month\n",
    "sometime.day\n",
    "sometime.hour\n",
    "sometime.minute\n",
    "sometime.second"
   ]
  },
  {
   "cell_type": "markdown",
   "metadata": {},
   "source": [
    "## The `pandas Timestamp` Object"
   ]
  },
  {
   "cell_type": "code",
   "execution_count": 11,
   "metadata": {},
   "outputs": [
    {
     "data": {
      "text/plain": [
       "Timestamp('2021-03-08 18:13:29')"
      ]
     },
     "execution_count": 11,
     "metadata": {},
     "output_type": "execute_result"
    }
   ],
   "source": [
    "pd.Timestamp(\"2015-03-31\")\n",
    "pd.Timestamp(\"2015/03/31\")\n",
    "pd.Timestamp(\"2013, 11, 04\")\n",
    "pd.Timestamp(\"1/1/2015\")\n",
    "pd.Timestamp(\"19/12/2015\")\n",
    "pd.Timestamp(\"12/19/2015\")\n",
    "pd.Timestamp(\"4/3/2000\")\n",
    "pd.Timestamp(\"2021-03-08 08:35:15\")\n",
    "pd.Timestamp(\"2021-03-08 6:13:29 PM\")"
   ]
  },
  {
   "cell_type": "code",
   "execution_count": 9,
   "metadata": {},
   "outputs": [
    {
     "data": {
      "text/plain": [
       "Timestamp('2015-01-01 00:00:00')"
      ]
     },
     "execution_count": 9,
     "metadata": {},
     "output_type": "execute_result"
    }
   ],
   "source": [
    "pd.Timestamp(dt.date(2015, 1, 1))"
   ]
  },
  {
   "cell_type": "code",
   "execution_count": 10,
   "metadata": {},
   "outputs": [
    {
     "data": {
      "text/plain": [
       "Timestamp('2000-02-03 21:35:22')"
      ]
     },
     "execution_count": 10,
     "metadata": {},
     "output_type": "execute_result"
    }
   ],
   "source": [
    "pd.Timestamp(dt.datetime(2000, 2, 3, 21, 35, 22))"
   ]
  },
  {
   "cell_type": "markdown",
   "metadata": {},
   "source": [
    "## The `pandas DateTimeIndex` Object"
   ]
  },
  {
   "cell_type": "code",
   "execution_count": 2,
   "metadata": {},
   "outputs": [
    {
     "data": {
      "text/plain": [
       "DatetimeIndex(['2016-01-02', '2016-04-12', '2009-09-07'], dtype='datetime64[ns]', freq=None)"
      ]
     },
     "execution_count": 2,
     "metadata": {},
     "output_type": "execute_result"
    }
   ],
   "source": [
    "dates = [\"2016/01/02\", \"2016/04/12\", \"2009/09/07\"]\n",
    "pd.DatetimeIndex(dates)"
   ]
  },
  {
   "cell_type": "code",
   "execution_count": 3,
   "metadata": {},
   "outputs": [
    {
     "data": {
      "text/plain": [
       "DatetimeIndex(['2016-01-10', '1994-06-13', '2003-12-29'], dtype='datetime64[ns]', freq=None)"
      ]
     },
     "execution_count": 3,
     "metadata": {},
     "output_type": "execute_result"
    }
   ],
   "source": [
    "dates = [dt.date(2016, 1, 10), dt.date(1994, 6, 13), dt.date(2003, 12, 29)]\n",
    "dtIndex = pd.DatetimeIndex(dates)\n",
    "dtIndex"
   ]
  },
  {
   "cell_type": "code",
   "execution_count": 5,
   "metadata": {},
   "outputs": [
    {
     "data": {
      "text/plain": [
       "2016-01-10    100\n",
       "1994-06-13    200\n",
       "2003-12-29    300\n",
       "dtype: int64"
      ]
     },
     "execution_count": 5,
     "metadata": {},
     "output_type": "execute_result"
    }
   ],
   "source": [
    "values = [100, 200, 300]\n",
    "pd.Series(data = values, index = dtIndex)"
   ]
  },
  {
   "cell_type": "markdown",
   "metadata": {},
   "source": [
    "## The `pd.to_datetime()` Method"
   ]
  },
  {
   "cell_type": "code",
   "execution_count": 12,
   "metadata": {},
   "outputs": [
    {
     "data": {
      "text/plain": [
       "DatetimeIndex(['2015-01-03', '2014-02-08', '2016-01-01', '1996-07-04'], dtype='datetime64[ns]', freq=None)"
      ]
     },
     "execution_count": 12,
     "metadata": {},
     "output_type": "execute_result"
    }
   ],
   "source": [
    "pd.to_datetime(\"2001-04-19\")\n",
    "pd.to_datetime(dt.date(2015, 1, 1))\n",
    "pd.to_datetime(dt.datetime(2015, 1, 1, 14, 35, 20))\n",
    "pd.to_datetime([\"2015-01-03\", \"2014/02/08\", \"2016\", \"July 4th, 1996\"])"
   ]
  },
  {
   "cell_type": "code",
   "execution_count": 13,
   "metadata": {},
   "outputs": [
    {
     "data": {
      "text/plain": [
       "0        2015-01-03\n",
       "1        2014/02/08\n",
       "2              2016\n",
       "3    July 4th, 1996\n",
       "dtype: object"
      ]
     },
     "execution_count": 13,
     "metadata": {},
     "output_type": "execute_result"
    }
   ],
   "source": [
    "times = pd.Series([\"2015-01-03\", \"2014/02/08\", \"2016\", \"July 4th, 1996\"])\n",
    "times"
   ]
  },
  {
   "cell_type": "code",
   "execution_count": 16,
   "metadata": {},
   "outputs": [
    {
     "data": {
      "text/plain": [
       "0   2015-01-03\n",
       "1   2014-02-08\n",
       "2   2016-01-01\n",
       "3   1996-07-04\n",
       "dtype: datetime64[ns]"
      ]
     },
     "execution_count": 16,
     "metadata": {},
     "output_type": "execute_result"
    }
   ],
   "source": [
    "pd.to_datetime(times)"
   ]
  },
  {
   "cell_type": "code",
   "execution_count": 6,
   "metadata": {},
   "outputs": [
    {
     "data": {
      "text/plain": [
       "0    July 4th, 1996\n",
       "1        10/04/1991\n",
       "2        2015-03-05\n",
       "3             Hello\n",
       "4        20/06/2011\n",
       "dtype: object"
      ]
     },
     "execution_count": 6,
     "metadata": {},
     "output_type": "execute_result"
    }
   ],
   "source": [
    "dates = pd.Series([\"July 4th, 1996\", \"10/04/1991\", \"2015-03-05\", \"Hello\", \"20/06/2011\"])\n",
    "dates"
   ]
  },
  {
   "cell_type": "code",
   "execution_count": 11,
   "metadata": {},
   "outputs": [
    {
     "data": {
      "text/plain": [
       "0   1996-07-04\n",
       "1   1991-10-04\n",
       "2   2015-03-05\n",
       "3          NaT\n",
       "4   2011-06-20\n",
       "dtype: datetime64[ns]"
      ]
     },
     "execution_count": 11,
     "metadata": {},
     "output_type": "execute_result"
    }
   ],
   "source": [
    "pd.to_datetime(dates, errors = \"coerce\")"
   ]
  },
  {
   "cell_type": "code",
   "execution_count": 16,
   "metadata": {},
   "outputs": [
    {
     "data": {
      "text/plain": [
       "DatetimeIndex(['1970-01-01 00:00:13', '2012-10-08 18:15:05',\n",
       "               '2012-10-09 18:15:05', '2012-10-10 18:15:05',\n",
       "               '2012-10-11 18:15:05', '2012-10-12 18:15:05'],\n",
       "              dtype='datetime64[ns]', freq=None)"
      ]
     },
     "execution_count": 16,
     "metadata": {},
     "output_type": "execute_result"
    }
   ],
   "source": [
    "pd.to_datetime([13, 1349720105, 1349806505, 1349892905, 1349979305, 1350065705], unit = \"s\")"
   ]
  },
  {
   "cell_type": "code",
   "execution_count": 5,
   "metadata": {},
   "outputs": [
    {
     "data": {
      "text/plain": [
       "Period('2016-01-08', '10D')"
      ]
     },
     "execution_count": 5,
     "metadata": {},
     "output_type": "execute_result"
    }
   ],
   "source": [
    "pd.Period(\"2016-01-08\", freq = \"10D\")"
   ]
  },
  {
   "cell_type": "code",
   "execution_count": 21,
   "metadata": {},
   "outputs": [
    {
     "data": {
      "text/plain": [
       "2016-01    1\n",
       "2016-02    2\n",
       "2016-03    3\n",
       "Freq: 2M, dtype: int64"
      ]
     },
     "execution_count": 21,
     "metadata": {},
     "output_type": "execute_result"
    }
   ],
   "source": [
    "dates = [\"2016-01-01\", \"2016-02-01\", \"2016-03-01\"]\n",
    "pd.Series([1, 2, 3], index = pd.PeriodIndex(dates, freq = \"2M\"))"
   ]
  },
  {
   "cell_type": "code",
   "execution_count": 17,
   "metadata": {
    "scrolled": true
   },
   "outputs": [
    {
     "data": {
      "text/plain": [
       "2015-12-29/2016-01-04    999\n",
       "2016-01-26/2016-02-01    500\n",
       "2016-01-26/2016-02-01    325\n",
       "Freq: W-MON, Name: Weekly Revenue, dtype: int64"
      ]
     },
     "execution_count": 17,
     "metadata": {},
     "output_type": "execute_result"
    }
   ],
   "source": [
    "#pd.Period(\"2016-01-08\", freq = \"W\")\n",
    "#pd.Period(\"2016-01-08\", freq = \"W-SUN\")\n",
    "#pd.Period(\"2016-01-08\", freq = \"W-WED\")\n",
    "#pd.Period(\"2015-12-10\", freq = \"10D\")\n",
    "\n",
    "dates = [\"2015-12-29\", \"2016-02-01\", \"2016-02-01\"]\n",
    "weeks = pd.PeriodIndex(dates, freq = \"W-MON\")\n",
    "pd.Series([999, 500, 325], index = weeks, name = \"Weekly Revenue\")"
   ]
  },
  {
   "cell_type": "markdown",
   "metadata": {},
   "source": [
    "## Create Range of Dates with the `pd.date_range()` Method, Part 1"
   ]
  },
  {
   "cell_type": "code",
   "execution_count": 15,
   "metadata": {},
   "outputs": [],
   "source": [
    "times = pd.date_range(start = \"2016-01-01\", end = \"2016-01-10\", freq = \"2D\")"
   ]
  },
  {
   "cell_type": "code",
   "execution_count": 17,
   "metadata": {},
   "outputs": [
    {
     "data": {
      "text/plain": [
       "DatetimeIndex(['2016-01-01', '2016-01-03', '2016-01-05', '2016-01-07',\n",
       "               '2016-01-09'],\n",
       "              dtype='datetime64[ns]', freq='2D')"
      ]
     },
     "execution_count": 17,
     "metadata": {},
     "output_type": "execute_result"
    }
   ],
   "source": [
    "type(times)\n",
    "times"
   ]
  },
  {
   "cell_type": "code",
   "execution_count": 34,
   "metadata": {},
   "outputs": [
    {
     "data": {
      "text/plain": [
       "pandas._libs.tslibs.timestamps.Timestamp"
      ]
     },
     "execution_count": 34,
     "metadata": {},
     "output_type": "execute_result"
    }
   ],
   "source": [
    "type(times[0])"
   ]
  },
  {
   "cell_type": "code",
   "execution_count": 18,
   "metadata": {},
   "outputs": [
    {
     "data": {
      "text/plain": [
       "DatetimeIndex(['2016-01-01', '2017-01-01', '2018-01-01', '2019-01-01',\n",
       "               '2020-01-01', '2021-01-01', '2022-01-01', '2023-01-01',\n",
       "               '2024-01-01', '2025-01-01', '2026-01-01', '2027-01-01',\n",
       "               '2028-01-01', '2029-01-01', '2030-01-01', '2031-01-01',\n",
       "               '2032-01-01', '2033-01-01', '2034-01-01', '2035-01-01',\n",
       "               '2036-01-01', '2037-01-01', '2038-01-01', '2039-01-01',\n",
       "               '2040-01-01', '2041-01-01', '2042-01-01', '2043-01-01',\n",
       "               '2044-01-01', '2045-01-01', '2046-01-01', '2047-01-01',\n",
       "               '2048-01-01', '2049-01-01', '2050-01-01'],\n",
       "              dtype='datetime64[ns]', freq='AS-JAN')"
      ]
     },
     "execution_count": 18,
     "metadata": {},
     "output_type": "execute_result"
    }
   ],
   "source": [
    "pd.date_range(start = \"2016-01-01\", end = \"2050-01-01\", freq = \"AS\")"
   ]
  },
  {
   "cell_type": "code",
   "execution_count": 14,
   "metadata": {},
   "outputs": [
    {
     "data": {
      "text/plain": [
       "DatetimeIndex(['2012-09-09 00:00:00', '2012-09-09 06:00:00',\n",
       "               '2012-09-09 12:00:00', '2012-09-09 18:00:00',\n",
       "               '2012-09-10 00:00:00', '2012-09-10 06:00:00',\n",
       "               '2012-09-10 12:00:00', '2012-09-10 18:00:00',\n",
       "               '2012-09-11 00:00:00', '2012-09-11 06:00:00',\n",
       "               '2012-09-11 12:00:00', '2012-09-11 18:00:00',\n",
       "               '2012-09-12 00:00:00', '2012-09-12 06:00:00',\n",
       "               '2012-09-12 12:00:00', '2012-09-12 18:00:00',\n",
       "               '2012-09-13 00:00:00', '2012-09-13 06:00:00',\n",
       "               '2012-09-13 12:00:00', '2012-09-13 18:00:00',\n",
       "               '2012-09-14 00:00:00', '2012-09-14 06:00:00',\n",
       "               '2012-09-14 12:00:00', '2012-09-14 18:00:00',\n",
       "               '2012-09-15 00:00:00', '2012-09-15 06:00:00',\n",
       "               '2012-09-15 12:00:00', '2012-09-15 18:00:00',\n",
       "               '2012-09-16 00:00:00', '2012-09-16 06:00:00',\n",
       "               '2012-09-16 12:00:00', '2012-09-16 18:00:00',\n",
       "               '2012-09-17 00:00:00', '2012-09-17 06:00:00',\n",
       "               '2012-09-17 12:00:00', '2012-09-17 18:00:00',\n",
       "               '2012-09-18 00:00:00', '2012-09-18 06:00:00',\n",
       "               '2012-09-18 12:00:00', '2012-09-18 18:00:00',\n",
       "               '2012-09-19 00:00:00', '2012-09-19 06:00:00',\n",
       "               '2012-09-19 12:00:00', '2012-09-19 18:00:00',\n",
       "               '2012-09-20 00:00:00', '2012-09-20 06:00:00',\n",
       "               '2012-09-20 12:00:00', '2012-09-20 18:00:00',\n",
       "               '2012-09-21 00:00:00', '2012-09-21 06:00:00'],\n",
       "              dtype='datetime64[ns]', freq='6H')"
      ]
     },
     "execution_count": 14,
     "metadata": {},
     "output_type": "execute_result"
    }
   ],
   "source": [
    "pd.date_range(start = \"2012-09-09\", periods = 50, freq = \"6H\")"
   ]
  },
  {
   "cell_type": "markdown",
   "metadata": {},
   "source": [
    "## Create Range of Dates with the `pd.date_range()` Method, Part 3"
   ]
  },
  {
   "cell_type": "code",
   "execution_count": 31,
   "metadata": {},
   "outputs": [
    {
     "data": {
      "text/plain": [
       "DatetimeIndex(['1999-12-02 03:00:00', '1999-12-02 10:00:00',\n",
       "               '1999-12-02 17:00:00', '1999-12-03 00:00:00',\n",
       "               '1999-12-03 07:00:00', '1999-12-03 14:00:00',\n",
       "               '1999-12-03 21:00:00', '1999-12-04 04:00:00',\n",
       "               '1999-12-04 11:00:00', '1999-12-04 18:00:00',\n",
       "               '1999-12-05 01:00:00', '1999-12-05 08:00:00',\n",
       "               '1999-12-05 15:00:00', '1999-12-05 22:00:00',\n",
       "               '1999-12-06 05:00:00', '1999-12-06 12:00:00',\n",
       "               '1999-12-06 19:00:00', '1999-12-07 02:00:00',\n",
       "               '1999-12-07 09:00:00', '1999-12-07 16:00:00',\n",
       "               '1999-12-07 23:00:00', '1999-12-08 06:00:00',\n",
       "               '1999-12-08 13:00:00', '1999-12-08 20:00:00',\n",
       "               '1999-12-09 03:00:00', '1999-12-09 10:00:00',\n",
       "               '1999-12-09 17:00:00', '1999-12-10 00:00:00',\n",
       "               '1999-12-10 07:00:00', '1999-12-10 14:00:00',\n",
       "               '1999-12-10 21:00:00', '1999-12-11 04:00:00',\n",
       "               '1999-12-11 11:00:00', '1999-12-11 18:00:00',\n",
       "               '1999-12-12 01:00:00', '1999-12-12 08:00:00',\n",
       "               '1999-12-12 15:00:00', '1999-12-12 22:00:00',\n",
       "               '1999-12-13 05:00:00', '1999-12-13 12:00:00',\n",
       "               '1999-12-13 19:00:00', '1999-12-14 02:00:00',\n",
       "               '1999-12-14 09:00:00', '1999-12-14 16:00:00',\n",
       "               '1999-12-14 23:00:00', '1999-12-15 06:00:00',\n",
       "               '1999-12-15 13:00:00', '1999-12-15 20:00:00',\n",
       "               '1999-12-16 03:00:00', '1999-12-16 10:00:00',\n",
       "               '1999-12-16 17:00:00', '1999-12-17 00:00:00',\n",
       "               '1999-12-17 07:00:00', '1999-12-17 14:00:00',\n",
       "               '1999-12-17 21:00:00', '1999-12-18 04:00:00',\n",
       "               '1999-12-18 11:00:00', '1999-12-18 18:00:00',\n",
       "               '1999-12-19 01:00:00', '1999-12-19 08:00:00',\n",
       "               '1999-12-19 15:00:00', '1999-12-19 22:00:00',\n",
       "               '1999-12-20 05:00:00', '1999-12-20 12:00:00',\n",
       "               '1999-12-20 19:00:00', '1999-12-21 02:00:00',\n",
       "               '1999-12-21 09:00:00', '1999-12-21 16:00:00',\n",
       "               '1999-12-21 23:00:00', '1999-12-22 06:00:00',\n",
       "               '1999-12-22 13:00:00', '1999-12-22 20:00:00',\n",
       "               '1999-12-23 03:00:00', '1999-12-23 10:00:00',\n",
       "               '1999-12-23 17:00:00', '1999-12-24 00:00:00',\n",
       "               '1999-12-24 07:00:00', '1999-12-24 14:00:00',\n",
       "               '1999-12-24 21:00:00', '1999-12-25 04:00:00',\n",
       "               '1999-12-25 11:00:00', '1999-12-25 18:00:00',\n",
       "               '1999-12-26 01:00:00', '1999-12-26 08:00:00',\n",
       "               '1999-12-26 15:00:00', '1999-12-26 22:00:00',\n",
       "               '1999-12-27 05:00:00', '1999-12-27 12:00:00',\n",
       "               '1999-12-27 19:00:00', '1999-12-28 02:00:00',\n",
       "               '1999-12-28 09:00:00', '1999-12-28 16:00:00',\n",
       "               '1999-12-28 23:00:00', '1999-12-29 06:00:00',\n",
       "               '1999-12-29 13:00:00', '1999-12-29 20:00:00',\n",
       "               '1999-12-30 03:00:00', '1999-12-30 10:00:00',\n",
       "               '1999-12-30 17:00:00', '1999-12-31 00:00:00'],\n",
       "              dtype='datetime64[ns]', freq='7H')"
      ]
     },
     "execution_count": 31,
     "metadata": {},
     "output_type": "execute_result"
    }
   ],
   "source": [
    "pd.date_range(end = \"1999-12-31\", periods = 100, freq = \"7H\")"
   ]
  },
  {
   "cell_type": "markdown",
   "metadata": {},
   "source": [
    "## The `.dt` Accessor"
   ]
  },
  {
   "cell_type": "code",
   "execution_count": 19,
   "metadata": {},
   "outputs": [],
   "source": [
    "bunch_of_dates = pd.date_range(start = \"2000-01-01\", end = \"2010-12-31\", freq = \"24D\")"
   ]
  },
  {
   "cell_type": "code",
   "execution_count": 20,
   "metadata": {},
   "outputs": [
    {
     "data": {
      "text/plain": [
       "DatetimeIndex(['2000-01-01', '2000-01-25', '2000-02-18', '2000-03-13',\n",
       "               '2000-04-06', '2000-04-30', '2000-05-24', '2000-06-17',\n",
       "               '2000-07-11', '2000-08-04',\n",
       "               ...\n",
       "               '2010-05-20', '2010-06-13', '2010-07-07', '2010-07-31',\n",
       "               '2010-08-24', '2010-09-17', '2010-10-11', '2010-11-04',\n",
       "               '2010-11-28', '2010-12-22'],\n",
       "              dtype='datetime64[ns]', length=168, freq='24D')"
      ]
     },
     "execution_count": 20,
     "metadata": {},
     "output_type": "execute_result"
    }
   ],
   "source": [
    "bunch_of_dates"
   ]
  },
  {
   "cell_type": "code",
   "execution_count": 21,
   "metadata": {},
   "outputs": [
    {
     "data": {
      "text/plain": [
       "0   2000-01-01\n",
       "1   2000-01-25\n",
       "2   2000-02-18\n",
       "dtype: datetime64[ns]"
      ]
     },
     "execution_count": 21,
     "metadata": {},
     "output_type": "execute_result"
    }
   ],
   "source": [
    "s = pd.Series(bunch_of_dates)\n",
    "s.head(3)"
   ]
  },
  {
   "cell_type": "code",
   "execution_count": 23,
   "metadata": {},
   "outputs": [
    {
     "data": {
      "text/plain": [
       "0     2000-01-01\n",
       "19    2001-04-01\n",
       "38    2002-07-01\n",
       "104   2006-11-01\n",
       "109   2007-03-01\n",
       "137   2009-01-01\n",
       "142   2009-05-01\n",
       "dtype: datetime64[ns]"
      ]
     },
     "execution_count": 23,
     "metadata": {},
     "output_type": "execute_result"
    }
   ],
   "source": [
    "mask = s.dt.is_month_start\n",
    "s[mask]"
   ]
  },
  {
   "cell_type": "markdown",
   "metadata": {
    "collapsed": true
   },
   "source": [
    "## Import Financial Data Set with `pandas_datareader` Library"
   ]
  },
  {
   "cell_type": "code",
   "execution_count": 25,
   "metadata": {},
   "outputs": [],
   "source": [
    "import pandas as pd\n",
    "import datetime as dt\n",
    "#pip install pandas_datareader\n",
    "from pandas_datareader import data"
   ]
  },
  {
   "cell_type": "code",
   "execution_count": 26,
   "metadata": {},
   "outputs": [
    {
     "data": {
      "text/html": [
       "<div>\n",
       "<style scoped>\n",
       "    .dataframe tbody tr th:only-of-type {\n",
       "        vertical-align: middle;\n",
       "    }\n",
       "\n",
       "    .dataframe tbody tr th {\n",
       "        vertical-align: top;\n",
       "    }\n",
       "\n",
       "    .dataframe thead th {\n",
       "        text-align: right;\n",
       "    }\n",
       "</style>\n",
       "<table border=\"1\" class=\"dataframe\">\n",
       "  <thead>\n",
       "    <tr style=\"text-align: right;\">\n",
       "      <th></th>\n",
       "      <th>High</th>\n",
       "      <th>Low</th>\n",
       "      <th>Open</th>\n",
       "      <th>Close</th>\n",
       "      <th>Volume</th>\n",
       "      <th>Adj Close</th>\n",
       "    </tr>\n",
       "    <tr>\n",
       "      <th>Date</th>\n",
       "      <th></th>\n",
       "      <th></th>\n",
       "      <th></th>\n",
       "      <th></th>\n",
       "      <th></th>\n",
       "      <th></th>\n",
       "    </tr>\n",
       "  </thead>\n",
       "  <tbody>\n",
       "    <tr>\n",
       "      <th>2020-02-19</th>\n",
       "      <td>188.179993</td>\n",
       "      <td>186.470001</td>\n",
       "      <td>188.059998</td>\n",
       "      <td>187.279999</td>\n",
       "      <td>29997500.0</td>\n",
       "      <td>187.279999</td>\n",
       "    </tr>\n",
       "    <tr>\n",
       "      <th>2020-02-20</th>\n",
       "      <td>187.250000</td>\n",
       "      <td>181.100006</td>\n",
       "      <td>186.949997</td>\n",
       "      <td>184.419998</td>\n",
       "      <td>36862400.0</td>\n",
       "      <td>184.419998</td>\n",
       "    </tr>\n",
       "    <tr>\n",
       "      <th>2020-02-21</th>\n",
       "      <td>183.500000</td>\n",
       "      <td>177.250000</td>\n",
       "      <td>183.169998</td>\n",
       "      <td>178.589996</td>\n",
       "      <td>48572600.0</td>\n",
       "      <td>178.589996</td>\n",
       "    </tr>\n",
       "  </tbody>\n",
       "</table>\n",
       "</div>"
      ],
      "text/plain": [
       "                  High         Low        Open       Close      Volume  \\\n",
       "Date                                                                     \n",
       "2020-02-19  188.179993  186.470001  188.059998  187.279999  29997500.0   \n",
       "2020-02-20  187.250000  181.100006  186.949997  184.419998  36862400.0   \n",
       "2020-02-21  183.500000  177.250000  183.169998  178.589996  48572600.0   \n",
       "\n",
       "             Adj Close  \n",
       "Date                    \n",
       "2020-02-19  187.279999  \n",
       "2020-02-20  184.419998  \n",
       "2020-02-21  178.589996  "
      ]
     },
     "execution_count": 26,
     "metadata": {},
     "output_type": "execute_result"
    }
   ],
   "source": [
    "company = \"MSFT\"\n",
    "start = \"2010-01-01\"\n",
    "stocks = data.DataReader(name = company, data_source = \"yahoo\", start = start)\n",
    "stocks.tail(3)"
   ]
  },
  {
   "cell_type": "code",
   "execution_count": 47,
   "metadata": {},
   "outputs": [
    {
     "data": {
      "text/plain": [
       "[DatetimeIndex(['2009-12-31', '2010-01-04', '2010-01-05', '2010-01-06',\n",
       "                '2010-01-07', '2010-01-08', '2010-01-11', '2010-01-12',\n",
       "                '2010-01-13', '2010-01-14',\n",
       "                ...\n",
       "                '2020-01-13', '2020-01-14', '2020-01-15', '2020-01-16',\n",
       "                '2020-01-17', '2020-01-21', '2020-01-22', '2020-01-23',\n",
       "                '2020-01-24', '2020-01-27'],\n",
       "               dtype='datetime64[ns]', name='Date', length=2534, freq=None),\n",
       " Index(['High', 'Low', 'Open', 'Close', 'Volume', 'Adj Close'], dtype='object')]"
      ]
     },
     "execution_count": 47,
     "metadata": {},
     "output_type": "execute_result"
    }
   ],
   "source": [
    "stocks.values\n",
    "stocks.columns\n",
    "stocks.index[0]\n",
    "stocks.axes"
   ]
  },
  {
   "cell_type": "markdown",
   "metadata": {
    "collapsed": true
   },
   "source": [
    "## Selecting from a `DataFrame` with a `DateTimeIndex`"
   ]
  },
  {
   "cell_type": "code",
   "execution_count": 48,
   "metadata": {},
   "outputs": [
    {
     "data": {
      "text/html": [
       "<div>\n",
       "<style scoped>\n",
       "    .dataframe tbody tr th:only-of-type {\n",
       "        vertical-align: middle;\n",
       "    }\n",
       "\n",
       "    .dataframe tbody tr th {\n",
       "        vertical-align: top;\n",
       "    }\n",
       "\n",
       "    .dataframe thead th {\n",
       "        text-align: right;\n",
       "    }\n",
       "</style>\n",
       "<table border=\"1\" class=\"dataframe\">\n",
       "  <thead>\n",
       "    <tr style=\"text-align: right;\">\n",
       "      <th></th>\n",
       "      <th>High</th>\n",
       "      <th>Low</th>\n",
       "      <th>Open</th>\n",
       "      <th>Close</th>\n",
       "      <th>Volume</th>\n",
       "      <th>Adj Close</th>\n",
       "    </tr>\n",
       "    <tr>\n",
       "      <th>Date</th>\n",
       "      <th></th>\n",
       "      <th></th>\n",
       "      <th></th>\n",
       "      <th></th>\n",
       "      <th></th>\n",
       "      <th></th>\n",
       "    </tr>\n",
       "  </thead>\n",
       "  <tbody>\n",
       "    <tr>\n",
       "      <th>2009-12-31</th>\n",
       "      <td>30.99</td>\n",
       "      <td>30.480000</td>\n",
       "      <td>30.980000</td>\n",
       "      <td>30.480000</td>\n",
       "      <td>31929700.0</td>\n",
       "      <td>23.990791</td>\n",
       "    </tr>\n",
       "    <tr>\n",
       "      <th>2010-01-04</th>\n",
       "      <td>31.10</td>\n",
       "      <td>30.590000</td>\n",
       "      <td>30.620001</td>\n",
       "      <td>30.950001</td>\n",
       "      <td>38409100.0</td>\n",
       "      <td>24.360727</td>\n",
       "    </tr>\n",
       "    <tr>\n",
       "      <th>2010-01-05</th>\n",
       "      <td>31.10</td>\n",
       "      <td>30.639999</td>\n",
       "      <td>30.850000</td>\n",
       "      <td>30.959999</td>\n",
       "      <td>49749600.0</td>\n",
       "      <td>24.368599</td>\n",
       "    </tr>\n",
       "  </tbody>\n",
       "</table>\n",
       "</div>"
      ],
      "text/plain": [
       "             High        Low       Open      Close      Volume  Adj Close\n",
       "Date                                                                     \n",
       "2009-12-31  30.99  30.480000  30.980000  30.480000  31929700.0  23.990791\n",
       "2010-01-04  31.10  30.590000  30.620001  30.950001  38409100.0  24.360727\n",
       "2010-01-05  31.10  30.639999  30.850000  30.959999  49749600.0  24.368599"
      ]
     },
     "execution_count": 48,
     "metadata": {},
     "output_type": "execute_result"
    }
   ],
   "source": [
    "stocks = data.DataReader(name = company, data_source = \"yahoo\", start = start)\n",
    "stocks.head(3)"
   ]
  },
  {
   "cell_type": "code",
   "execution_count": 49,
   "metadata": {},
   "outputs": [
    {
     "data": {
      "text/plain": [
       "High         3.110000e+01\n",
       "Low          3.064000e+01\n",
       "Open         3.085000e+01\n",
       "Close        3.096000e+01\n",
       "Volume       4.974960e+07\n",
       "Adj Close    2.436860e+01\n",
       "Name: 2010-01-05 00:00:00, dtype: float64"
      ]
     },
     "execution_count": 49,
     "metadata": {},
     "output_type": "execute_result"
    }
   ],
   "source": [
    "stocks.loc[\"2014-03-04\"]\n",
    "stocks.iloc[300]\n",
    "stocks.loc[\"2009-12-31\"]\n",
    "stocks.iloc[2]"
   ]
  },
  {
   "cell_type": "code",
   "execution_count": 10,
   "metadata": {},
   "outputs": [
    {
     "data": {
      "text/html": [
       "<div>\n",
       "<style scoped>\n",
       "    .dataframe tbody tr th:only-of-type {\n",
       "        vertical-align: middle;\n",
       "    }\n",
       "\n",
       "    .dataframe tbody tr th {\n",
       "        vertical-align: top;\n",
       "    }\n",
       "\n",
       "    .dataframe thead th {\n",
       "        text-align: right;\n",
       "    }\n",
       "</style>\n",
       "<table border=\"1\" class=\"dataframe\">\n",
       "  <thead>\n",
       "    <tr style=\"text-align: right;\">\n",
       "      <th></th>\n",
       "      <th>High</th>\n",
       "      <th>Low</th>\n",
       "      <th>Open</th>\n",
       "      <th>Close</th>\n",
       "      <th>Volume</th>\n",
       "      <th>Adj Close</th>\n",
       "    </tr>\n",
       "    <tr>\n",
       "      <th>Date</th>\n",
       "      <th></th>\n",
       "      <th></th>\n",
       "      <th></th>\n",
       "      <th></th>\n",
       "      <th></th>\n",
       "      <th></th>\n",
       "    </tr>\n",
       "  </thead>\n",
       "  <tbody>\n",
       "    <tr>\n",
       "      <th>2013-10-01</th>\n",
       "      <td>321.000000</td>\n",
       "      <td>313.649994</td>\n",
       "      <td>314.220001</td>\n",
       "      <td>320.950012</td>\n",
       "      <td>2396400</td>\n",
       "      <td>320.950012</td>\n",
       "    </tr>\n",
       "    <tr>\n",
       "      <th>2013-10-02</th>\n",
       "      <td>321.730011</td>\n",
       "      <td>317.519989</td>\n",
       "      <td>318.040009</td>\n",
       "      <td>320.510010</td>\n",
       "      <td>2217400</td>\n",
       "      <td>320.510010</td>\n",
       "    </tr>\n",
       "    <tr>\n",
       "      <th>2013-10-03</th>\n",
       "      <td>322.920013</td>\n",
       "      <td>313.019989</td>\n",
       "      <td>320.390015</td>\n",
       "      <td>314.760010</td>\n",
       "      <td>2674800</td>\n",
       "      <td>314.760010</td>\n",
       "    </tr>\n",
       "    <tr>\n",
       "      <th>2013-10-04</th>\n",
       "      <td>319.200012</td>\n",
       "      <td>312.619995</td>\n",
       "      <td>315.130005</td>\n",
       "      <td>319.040009</td>\n",
       "      <td>1815000</td>\n",
       "      <td>319.040009</td>\n",
       "    </tr>\n",
       "    <tr>\n",
       "      <th>2013-10-07</th>\n",
       "      <td>315.339996</td>\n",
       "      <td>309.739990</td>\n",
       "      <td>315.239990</td>\n",
       "      <td>310.029999</td>\n",
       "      <td>2083200</td>\n",
       "      <td>310.029999</td>\n",
       "    </tr>\n",
       "  </tbody>\n",
       "</table>\n",
       "</div>"
      ],
      "text/plain": [
       "                  High         Low        Open       Close   Volume  \\\n",
       "Date                                                                  \n",
       "2013-10-01  321.000000  313.649994  314.220001  320.950012  2396400   \n",
       "2013-10-02  321.730011  317.519989  318.040009  320.510010  2217400   \n",
       "2013-10-03  322.920013  313.019989  320.390015  314.760010  2674800   \n",
       "2013-10-04  319.200012  312.619995  315.130005  319.040009  1815000   \n",
       "2013-10-07  315.339996  309.739990  315.239990  310.029999  2083200   \n",
       "\n",
       "             Adj Close  \n",
       "Date                    \n",
       "2013-10-01  320.950012  \n",
       "2013-10-02  320.510010  \n",
       "2013-10-03  314.760010  \n",
       "2013-10-04  319.040009  \n",
       "2013-10-07  310.029999  "
      ]
     },
     "execution_count": 10,
     "metadata": {},
     "output_type": "execute_result"
    }
   ],
   "source": [
    "stocks.loc[\"2013-10-01\" : \"2013-10-07\"]"
   ]
  },
  {
   "cell_type": "code",
   "execution_count": 50,
   "metadata": {},
   "outputs": [
    {
     "data": {
      "text/plain": [
       "DatetimeIndex(['1991-04-12', '1992-04-12', '1993-04-12', '1994-04-12',\n",
       "               '1995-04-12', '1996-04-12', '1997-04-12', '1998-04-12',\n",
       "               '1999-04-12', '2000-04-12', '2001-04-12', '2002-04-12',\n",
       "               '2003-04-12', '2004-04-12', '2005-04-12', '2006-04-12',\n",
       "               '2007-04-12', '2008-04-12', '2009-04-12', '2010-04-12',\n",
       "               '2011-04-12', '2012-04-12', '2013-04-12', '2014-04-12',\n",
       "               '2015-04-12', '2016-04-12', '2017-04-12'],\n",
       "              dtype='datetime64[ns]', freq='<DateOffset: years=1>')"
      ]
     },
     "execution_count": 50,
     "metadata": {},
     "output_type": "execute_result"
    }
   ],
   "source": [
    "birthdays = pd.date_range(start = \"1991-04-12\", end = \"2017-12-31\", freq = pd.DateOffset(years = 1))\n",
    "birthdays"
   ]
  },
  {
   "cell_type": "code",
   "execution_count": 51,
   "metadata": {},
   "outputs": [],
   "source": [
    "mask = stocks.index.isin(birthdays)"
   ]
  },
  {
   "cell_type": "code",
   "execution_count": 52,
   "metadata": {},
   "outputs": [
    {
     "data": {
      "text/html": [
       "<div>\n",
       "<style scoped>\n",
       "    .dataframe tbody tr th:only-of-type {\n",
       "        vertical-align: middle;\n",
       "    }\n",
       "\n",
       "    .dataframe tbody tr th {\n",
       "        vertical-align: top;\n",
       "    }\n",
       "\n",
       "    .dataframe thead th {\n",
       "        text-align: right;\n",
       "    }\n",
       "</style>\n",
       "<table border=\"1\" class=\"dataframe\">\n",
       "  <thead>\n",
       "    <tr style=\"text-align: right;\">\n",
       "      <th></th>\n",
       "      <th>High</th>\n",
       "      <th>Low</th>\n",
       "      <th>Open</th>\n",
       "      <th>Close</th>\n",
       "      <th>Volume</th>\n",
       "      <th>Adj Close</th>\n",
       "    </tr>\n",
       "    <tr>\n",
       "      <th>Date</th>\n",
       "      <th></th>\n",
       "      <th></th>\n",
       "      <th></th>\n",
       "      <th></th>\n",
       "      <th></th>\n",
       "      <th></th>\n",
       "    </tr>\n",
       "  </thead>\n",
       "  <tbody>\n",
       "    <tr>\n",
       "      <th>2010-04-12</th>\n",
       "      <td>30.490000</td>\n",
       "      <td>30.209999</td>\n",
       "      <td>30.250000</td>\n",
       "      <td>30.320000</td>\n",
       "      <td>37068800.0</td>\n",
       "      <td>23.976448</td>\n",
       "    </tr>\n",
       "    <tr>\n",
       "      <th>2011-04-12</th>\n",
       "      <td>25.850000</td>\n",
       "      <td>25.549999</td>\n",
       "      <td>25.830000</td>\n",
       "      <td>25.639999</td>\n",
       "      <td>36920400.0</td>\n",
       "      <td>20.723314</td>\n",
       "    </tr>\n",
       "    <tr>\n",
       "      <th>2012-04-12</th>\n",
       "      <td>31.040001</td>\n",
       "      <td>30.420000</td>\n",
       "      <td>30.480000</td>\n",
       "      <td>30.980000</td>\n",
       "      <td>38304000.0</td>\n",
       "      <td>25.721735</td>\n",
       "    </tr>\n",
       "    <tr>\n",
       "      <th>2013-04-12</th>\n",
       "      <td>29.020000</td>\n",
       "      <td>28.660000</td>\n",
       "      <td>28.850000</td>\n",
       "      <td>28.790001</td>\n",
       "      <td>62886300.0</td>\n",
       "      <td>24.620874</td>\n",
       "    </tr>\n",
       "    <tr>\n",
       "      <th>2016-04-12</th>\n",
       "      <td>54.779999</td>\n",
       "      <td>53.759998</td>\n",
       "      <td>54.369999</td>\n",
       "      <td>54.650002</td>\n",
       "      <td>24944300.0</td>\n",
       "      <td>50.760017</td>\n",
       "    </tr>\n",
       "    <tr>\n",
       "      <th>2017-04-12</th>\n",
       "      <td>65.510002</td>\n",
       "      <td>65.110001</td>\n",
       "      <td>65.419998</td>\n",
       "      <td>65.230003</td>\n",
       "      <td>17108500.0</td>\n",
       "      <td>62.180389</td>\n",
       "    </tr>\n",
       "  </tbody>\n",
       "</table>\n",
       "</div>"
      ],
      "text/plain": [
       "                 High        Low       Open      Close      Volume  Adj Close\n",
       "Date                                                                         \n",
       "2010-04-12  30.490000  30.209999  30.250000  30.320000  37068800.0  23.976448\n",
       "2011-04-12  25.850000  25.549999  25.830000  25.639999  36920400.0  20.723314\n",
       "2012-04-12  31.040001  30.420000  30.480000  30.980000  38304000.0  25.721735\n",
       "2013-04-12  29.020000  28.660000  28.850000  28.790001  62886300.0  24.620874\n",
       "2016-04-12  54.779999  53.759998  54.369999  54.650002  24944300.0  50.760017\n",
       "2017-04-12  65.510002  65.110001  65.419998  65.230003  17108500.0  62.180389"
      ]
     },
     "execution_count": 52,
     "metadata": {},
     "output_type": "execute_result"
    }
   ],
   "source": [
    "stocks[mask]"
   ]
  },
  {
   "cell_type": "markdown",
   "metadata": {
    "collapsed": true
   },
   "source": [
    "## `Timestamp` Object Attributes"
   ]
  },
  {
   "cell_type": "code",
   "execution_count": 22,
   "metadata": {},
   "outputs": [
    {
     "data": {
      "text/html": [
       "<div>\n",
       "<style scoped>\n",
       "    .dataframe tbody tr th:only-of-type {\n",
       "        vertical-align: middle;\n",
       "    }\n",
       "\n",
       "    .dataframe tbody tr th {\n",
       "        vertical-align: top;\n",
       "    }\n",
       "\n",
       "    .dataframe thead th {\n",
       "        text-align: right;\n",
       "    }\n",
       "</style>\n",
       "<table border=\"1\" class=\"dataframe\">\n",
       "  <thead>\n",
       "    <tr style=\"text-align: right;\">\n",
       "      <th></th>\n",
       "      <th>High</th>\n",
       "      <th>Low</th>\n",
       "      <th>Open</th>\n",
       "      <th>Close</th>\n",
       "      <th>Volume</th>\n",
       "      <th>Adj Close</th>\n",
       "    </tr>\n",
       "    <tr>\n",
       "      <th>Date</th>\n",
       "      <th></th>\n",
       "      <th></th>\n",
       "      <th></th>\n",
       "      <th></th>\n",
       "      <th></th>\n",
       "      <th></th>\n",
       "    </tr>\n",
       "  </thead>\n",
       "  <tbody>\n",
       "    <tr>\n",
       "      <th>2009-12-31</th>\n",
       "      <td>137.279999</td>\n",
       "      <td>134.520004</td>\n",
       "      <td>137.089996</td>\n",
       "      <td>134.520004</td>\n",
       "      <td>4523000</td>\n",
       "      <td>134.520004</td>\n",
       "    </tr>\n",
       "    <tr>\n",
       "      <th>2010-01-04</th>\n",
       "      <td>136.610001</td>\n",
       "      <td>133.139999</td>\n",
       "      <td>136.250000</td>\n",
       "      <td>133.899994</td>\n",
       "      <td>7599900</td>\n",
       "      <td>133.899994</td>\n",
       "    </tr>\n",
       "    <tr>\n",
       "      <th>2010-01-05</th>\n",
       "      <td>135.479996</td>\n",
       "      <td>131.809998</td>\n",
       "      <td>133.429993</td>\n",
       "      <td>134.690002</td>\n",
       "      <td>8851900</td>\n",
       "      <td>134.690002</td>\n",
       "    </tr>\n",
       "  </tbody>\n",
       "</table>\n",
       "</div>"
      ],
      "text/plain": [
       "                  High         Low        Open       Close   Volume  \\\n",
       "Date                                                                  \n",
       "2009-12-31  137.279999  134.520004  137.089996  134.520004  4523000   \n",
       "2010-01-04  136.610001  133.139999  136.250000  133.899994  7599900   \n",
       "2010-01-05  135.479996  131.809998  133.429993  134.690002  8851900   \n",
       "\n",
       "             Adj Close  \n",
       "Date                    \n",
       "2009-12-31  134.520004  \n",
       "2010-01-04  133.899994  \n",
       "2010-01-05  134.690002  "
      ]
     },
     "execution_count": 22,
     "metadata": {},
     "output_type": "execute_result"
    }
   ],
   "source": [
    "stocks = data.DataReader(name = company, data_source = \"yahoo\", start = start, end = end)\n",
    "stocks.head(3)"
   ]
  },
  {
   "cell_type": "code",
   "execution_count": 23,
   "metadata": {},
   "outputs": [
    {
     "data": {
      "text/plain": [
       "Timestamp('2011-12-23 00:00:00')"
      ]
     },
     "execution_count": 23,
     "metadata": {},
     "output_type": "execute_result"
    }
   ],
   "source": [
    "someday = stocks.index[500]\n",
    "someday"
   ]
  },
  {
   "cell_type": "code",
   "execution_count": 25,
   "metadata": {},
   "outputs": [
    {
     "data": {
      "text/plain": [
       "False"
      ]
     },
     "execution_count": 25,
     "metadata": {},
     "output_type": "execute_result"
    }
   ],
   "source": [
    "someday.day\n",
    "someday.month\n",
    "someday.year\n",
    "#someday.weekday_name\n",
    "someday.is_month_end\n",
    "someday.is_month_start"
   ]
  },
  {
   "cell_type": "code",
   "execution_count": 26,
   "metadata": {},
   "outputs": [],
   "source": [
    "stocks.insert(0, \"Day of Week\", stocks.index.weekday_name)"
   ]
  },
  {
   "cell_type": "code",
   "execution_count": 27,
   "metadata": {},
   "outputs": [],
   "source": [
    "stocks.insert(1, \"Is Start of Month\", stocks.index.is_month_start)"
   ]
  },
  {
   "cell_type": "code",
   "execution_count": 29,
   "metadata": {
    "scrolled": true
   },
   "outputs": [
    {
     "data": {
      "text/html": [
       "<div>\n",
       "<style scoped>\n",
       "    .dataframe tbody tr th:only-of-type {\n",
       "        vertical-align: middle;\n",
       "    }\n",
       "\n",
       "    .dataframe tbody tr th {\n",
       "        vertical-align: top;\n",
       "    }\n",
       "\n",
       "    .dataframe thead th {\n",
       "        text-align: right;\n",
       "    }\n",
       "</style>\n",
       "<table border=\"1\" class=\"dataframe\">\n",
       "  <thead>\n",
       "    <tr style=\"text-align: right;\">\n",
       "      <th></th>\n",
       "      <th>Day of Week</th>\n",
       "      <th>Is Start of Month</th>\n",
       "      <th>High</th>\n",
       "      <th>Low</th>\n",
       "      <th>Open</th>\n",
       "      <th>Close</th>\n",
       "      <th>Volume</th>\n",
       "      <th>Adj Close</th>\n",
       "    </tr>\n",
       "    <tr>\n",
       "      <th>Date</th>\n",
       "      <th></th>\n",
       "      <th></th>\n",
       "      <th></th>\n",
       "      <th></th>\n",
       "      <th></th>\n",
       "      <th></th>\n",
       "      <th></th>\n",
       "      <th></th>\n",
       "    </tr>\n",
       "  </thead>\n",
       "  <tbody>\n",
       "    <tr>\n",
       "      <th>2009-12-31</th>\n",
       "      <td>Thursday</td>\n",
       "      <td>False</td>\n",
       "      <td>30.990000</td>\n",
       "      <td>30.480000</td>\n",
       "      <td>30.980000</td>\n",
       "      <td>30.480000</td>\n",
       "      <td>31929700.0</td>\n",
       "      <td>23.990791</td>\n",
       "    </tr>\n",
       "    <tr>\n",
       "      <th>2010-01-04</th>\n",
       "      <td>Monday</td>\n",
       "      <td>False</td>\n",
       "      <td>31.100000</td>\n",
       "      <td>30.590000</td>\n",
       "      <td>30.620001</td>\n",
       "      <td>30.950001</td>\n",
       "      <td>38409100.0</td>\n",
       "      <td>24.360727</td>\n",
       "    </tr>\n",
       "    <tr>\n",
       "      <th>2010-01-05</th>\n",
       "      <td>Tuesday</td>\n",
       "      <td>False</td>\n",
       "      <td>31.100000</td>\n",
       "      <td>30.639999</td>\n",
       "      <td>30.850000</td>\n",
       "      <td>30.959999</td>\n",
       "      <td>49749600.0</td>\n",
       "      <td>24.368599</td>\n",
       "    </tr>\n",
       "    <tr>\n",
       "      <th>2010-01-06</th>\n",
       "      <td>Wednesday</td>\n",
       "      <td>False</td>\n",
       "      <td>31.080000</td>\n",
       "      <td>30.520000</td>\n",
       "      <td>30.879999</td>\n",
       "      <td>30.770000</td>\n",
       "      <td>58182400.0</td>\n",
       "      <td>24.219046</td>\n",
       "    </tr>\n",
       "    <tr>\n",
       "      <th>2010-01-07</th>\n",
       "      <td>Thursday</td>\n",
       "      <td>False</td>\n",
       "      <td>30.700001</td>\n",
       "      <td>30.190001</td>\n",
       "      <td>30.629999</td>\n",
       "      <td>30.450001</td>\n",
       "      <td>50559700.0</td>\n",
       "      <td>23.967175</td>\n",
       "    </tr>\n",
       "    <tr>\n",
       "      <th>2010-01-08</th>\n",
       "      <td>Friday</td>\n",
       "      <td>False</td>\n",
       "      <td>30.879999</td>\n",
       "      <td>30.240000</td>\n",
       "      <td>30.280001</td>\n",
       "      <td>30.660000</td>\n",
       "      <td>51197400.0</td>\n",
       "      <td>24.132469</td>\n",
       "    </tr>\n",
       "    <tr>\n",
       "      <th>2010-01-11</th>\n",
       "      <td>Monday</td>\n",
       "      <td>False</td>\n",
       "      <td>30.760000</td>\n",
       "      <td>30.120001</td>\n",
       "      <td>30.709999</td>\n",
       "      <td>30.270000</td>\n",
       "      <td>68754700.0</td>\n",
       "      <td>23.825497</td>\n",
       "    </tr>\n",
       "    <tr>\n",
       "      <th>2010-01-12</th>\n",
       "      <td>Tuesday</td>\n",
       "      <td>False</td>\n",
       "      <td>30.400000</td>\n",
       "      <td>29.910000</td>\n",
       "      <td>30.150000</td>\n",
       "      <td>30.070000</td>\n",
       "      <td>65912100.0</td>\n",
       "      <td>23.668074</td>\n",
       "    </tr>\n",
       "    <tr>\n",
       "      <th>2010-01-13</th>\n",
       "      <td>Wednesday</td>\n",
       "      <td>False</td>\n",
       "      <td>30.520000</td>\n",
       "      <td>30.010000</td>\n",
       "      <td>30.260000</td>\n",
       "      <td>30.350000</td>\n",
       "      <td>51863500.0</td>\n",
       "      <td>23.888464</td>\n",
       "    </tr>\n",
       "    <tr>\n",
       "      <th>2010-01-14</th>\n",
       "      <td>Thursday</td>\n",
       "      <td>False</td>\n",
       "      <td>31.100000</td>\n",
       "      <td>30.260000</td>\n",
       "      <td>30.309999</td>\n",
       "      <td>30.959999</td>\n",
       "      <td>63228100.0</td>\n",
       "      <td>24.368599</td>\n",
       "    </tr>\n",
       "    <tr>\n",
       "      <th>2010-01-15</th>\n",
       "      <td>Friday</td>\n",
       "      <td>False</td>\n",
       "      <td>31.240000</td>\n",
       "      <td>30.709999</td>\n",
       "      <td>31.080000</td>\n",
       "      <td>30.860001</td>\n",
       "      <td>79913200.0</td>\n",
       "      <td>24.289886</td>\n",
       "    </tr>\n",
       "    <tr>\n",
       "      <th>2010-01-19</th>\n",
       "      <td>Tuesday</td>\n",
       "      <td>False</td>\n",
       "      <td>31.240000</td>\n",
       "      <td>30.680000</td>\n",
       "      <td>30.750000</td>\n",
       "      <td>31.100000</td>\n",
       "      <td>46575700.0</td>\n",
       "      <td>24.478792</td>\n",
       "    </tr>\n",
       "    <tr>\n",
       "      <th>2010-01-20</th>\n",
       "      <td>Wednesday</td>\n",
       "      <td>False</td>\n",
       "      <td>30.940001</td>\n",
       "      <td>30.309999</td>\n",
       "      <td>30.809999</td>\n",
       "      <td>30.590000</td>\n",
       "      <td>54849500.0</td>\n",
       "      <td>24.077366</td>\n",
       "    </tr>\n",
       "    <tr>\n",
       "      <th>2010-01-21</th>\n",
       "      <td>Thursday</td>\n",
       "      <td>False</td>\n",
       "      <td>30.719999</td>\n",
       "      <td>30.000000</td>\n",
       "      <td>30.610001</td>\n",
       "      <td>30.010000</td>\n",
       "      <td>73086700.0</td>\n",
       "      <td>23.620857</td>\n",
       "    </tr>\n",
       "    <tr>\n",
       "      <th>2010-01-22</th>\n",
       "      <td>Friday</td>\n",
       "      <td>False</td>\n",
       "      <td>30.200001</td>\n",
       "      <td>28.840000</td>\n",
       "      <td>30.000000</td>\n",
       "      <td>28.959999</td>\n",
       "      <td>102004600.0</td>\n",
       "      <td>22.794395</td>\n",
       "    </tr>\n",
       "    <tr>\n",
       "      <th>2010-01-25</th>\n",
       "      <td>Monday</td>\n",
       "      <td>False</td>\n",
       "      <td>29.660000</td>\n",
       "      <td>29.100000</td>\n",
       "      <td>29.240000</td>\n",
       "      <td>29.320000</td>\n",
       "      <td>63373000.0</td>\n",
       "      <td>23.077757</td>\n",
       "    </tr>\n",
       "    <tr>\n",
       "      <th>2010-01-26</th>\n",
       "      <td>Tuesday</td>\n",
       "      <td>False</td>\n",
       "      <td>29.850000</td>\n",
       "      <td>29.090000</td>\n",
       "      <td>29.200001</td>\n",
       "      <td>29.500000</td>\n",
       "      <td>66639900.0</td>\n",
       "      <td>23.219431</td>\n",
       "    </tr>\n",
       "    <tr>\n",
       "      <th>2010-01-27</th>\n",
       "      <td>Wednesday</td>\n",
       "      <td>False</td>\n",
       "      <td>29.820000</td>\n",
       "      <td>29.020000</td>\n",
       "      <td>29.350000</td>\n",
       "      <td>29.670000</td>\n",
       "      <td>63949500.0</td>\n",
       "      <td>23.353241</td>\n",
       "    </tr>\n",
       "    <tr>\n",
       "      <th>2010-01-28</th>\n",
       "      <td>Thursday</td>\n",
       "      <td>False</td>\n",
       "      <td>29.870001</td>\n",
       "      <td>28.889999</td>\n",
       "      <td>29.840000</td>\n",
       "      <td>29.160000</td>\n",
       "      <td>117513700.0</td>\n",
       "      <td>22.951815</td>\n",
       "    </tr>\n",
       "    <tr>\n",
       "      <th>2010-01-29</th>\n",
       "      <td>Friday</td>\n",
       "      <td>False</td>\n",
       "      <td>29.920000</td>\n",
       "      <td>27.660000</td>\n",
       "      <td>29.900000</td>\n",
       "      <td>28.180000</td>\n",
       "      <td>193888500.0</td>\n",
       "      <td>22.180464</td>\n",
       "    </tr>\n",
       "    <tr>\n",
       "      <th>2010-02-01</th>\n",
       "      <td>Monday</td>\n",
       "      <td>True</td>\n",
       "      <td>28.480000</td>\n",
       "      <td>27.920000</td>\n",
       "      <td>28.389999</td>\n",
       "      <td>28.410000</td>\n",
       "      <td>85931100.0</td>\n",
       "      <td>22.361494</td>\n",
       "    </tr>\n",
       "    <tr>\n",
       "      <th>2010-02-02</th>\n",
       "      <td>Tuesday</td>\n",
       "      <td>False</td>\n",
       "      <td>28.500000</td>\n",
       "      <td>28.139999</td>\n",
       "      <td>28.370001</td>\n",
       "      <td>28.459999</td>\n",
       "      <td>54413700.0</td>\n",
       "      <td>22.400845</td>\n",
       "    </tr>\n",
       "    <tr>\n",
       "      <th>2010-02-03</th>\n",
       "      <td>Wednesday</td>\n",
       "      <td>False</td>\n",
       "      <td>28.790001</td>\n",
       "      <td>28.120001</td>\n",
       "      <td>28.260000</td>\n",
       "      <td>28.629999</td>\n",
       "      <td>61397900.0</td>\n",
       "      <td>22.534660</td>\n",
       "    </tr>\n",
       "    <tr>\n",
       "      <th>2010-02-04</th>\n",
       "      <td>Thursday</td>\n",
       "      <td>False</td>\n",
       "      <td>28.500000</td>\n",
       "      <td>27.809999</td>\n",
       "      <td>28.379999</td>\n",
       "      <td>27.840000</td>\n",
       "      <td>77850000.0</td>\n",
       "      <td>21.912851</td>\n",
       "    </tr>\n",
       "    <tr>\n",
       "      <th>2010-02-05</th>\n",
       "      <td>Friday</td>\n",
       "      <td>False</td>\n",
       "      <td>28.280001</td>\n",
       "      <td>27.570000</td>\n",
       "      <td>28.000000</td>\n",
       "      <td>28.020000</td>\n",
       "      <td>80960100.0</td>\n",
       "      <td>22.054527</td>\n",
       "    </tr>\n",
       "    <tr>\n",
       "      <th>2010-02-08</th>\n",
       "      <td>Monday</td>\n",
       "      <td>False</td>\n",
       "      <td>28.080000</td>\n",
       "      <td>27.570000</td>\n",
       "      <td>28.010000</td>\n",
       "      <td>27.719999</td>\n",
       "      <td>52820600.0</td>\n",
       "      <td>21.818392</td>\n",
       "    </tr>\n",
       "    <tr>\n",
       "      <th>2010-02-09</th>\n",
       "      <td>Tuesday</td>\n",
       "      <td>False</td>\n",
       "      <td>28.340000</td>\n",
       "      <td>27.750000</td>\n",
       "      <td>27.969999</td>\n",
       "      <td>28.010000</td>\n",
       "      <td>59195800.0</td>\n",
       "      <td>22.046650</td>\n",
       "    </tr>\n",
       "    <tr>\n",
       "      <th>2010-02-10</th>\n",
       "      <td>Wednesday</td>\n",
       "      <td>False</td>\n",
       "      <td>28.240000</td>\n",
       "      <td>27.840000</td>\n",
       "      <td>28.030001</td>\n",
       "      <td>27.990000</td>\n",
       "      <td>48591300.0</td>\n",
       "      <td>22.030914</td>\n",
       "    </tr>\n",
       "    <tr>\n",
       "      <th>2010-02-11</th>\n",
       "      <td>Thursday</td>\n",
       "      <td>False</td>\n",
       "      <td>28.400000</td>\n",
       "      <td>27.700001</td>\n",
       "      <td>27.930000</td>\n",
       "      <td>28.120001</td>\n",
       "      <td>65993700.0</td>\n",
       "      <td>22.133238</td>\n",
       "    </tr>\n",
       "    <tr>\n",
       "      <th>2010-02-12</th>\n",
       "      <td>Friday</td>\n",
       "      <td>False</td>\n",
       "      <td>28.059999</td>\n",
       "      <td>27.580000</td>\n",
       "      <td>27.809999</td>\n",
       "      <td>27.930000</td>\n",
       "      <td>81117200.0</td>\n",
       "      <td>21.983685</td>\n",
       "    </tr>\n",
       "    <tr>\n",
       "      <th>...</th>\n",
       "      <td>...</td>\n",
       "      <td>...</td>\n",
       "      <td>...</td>\n",
       "      <td>...</td>\n",
       "      <td>...</td>\n",
       "      <td>...</td>\n",
       "      <td>...</td>\n",
       "      <td>...</td>\n",
       "    </tr>\n",
       "    <tr>\n",
       "      <th>2019-10-15</th>\n",
       "      <td>Tuesday</td>\n",
       "      <td>False</td>\n",
       "      <td>141.789993</td>\n",
       "      <td>139.809998</td>\n",
       "      <td>140.059998</td>\n",
       "      <td>141.570007</td>\n",
       "      <td>19695700.0</td>\n",
       "      <td>141.089920</td>\n",
       "    </tr>\n",
       "    <tr>\n",
       "      <th>2019-10-16</th>\n",
       "      <td>Wednesday</td>\n",
       "      <td>False</td>\n",
       "      <td>140.990005</td>\n",
       "      <td>139.529999</td>\n",
       "      <td>140.789993</td>\n",
       "      <td>140.410004</td>\n",
       "      <td>20751600.0</td>\n",
       "      <td>139.933838</td>\n",
       "    </tr>\n",
       "    <tr>\n",
       "      <th>2019-10-17</th>\n",
       "      <td>Thursday</td>\n",
       "      <td>False</td>\n",
       "      <td>141.419998</td>\n",
       "      <td>139.020004</td>\n",
       "      <td>140.949997</td>\n",
       "      <td>139.690002</td>\n",
       "      <td>21460600.0</td>\n",
       "      <td>139.216278</td>\n",
       "    </tr>\n",
       "    <tr>\n",
       "      <th>2019-10-18</th>\n",
       "      <td>Friday</td>\n",
       "      <td>False</td>\n",
       "      <td>140.000000</td>\n",
       "      <td>136.559998</td>\n",
       "      <td>139.759995</td>\n",
       "      <td>137.410004</td>\n",
       "      <td>32273500.0</td>\n",
       "      <td>136.944016</td>\n",
       "    </tr>\n",
       "    <tr>\n",
       "      <th>2019-10-21</th>\n",
       "      <td>Monday</td>\n",
       "      <td>False</td>\n",
       "      <td>138.500000</td>\n",
       "      <td>137.009995</td>\n",
       "      <td>138.449997</td>\n",
       "      <td>138.429993</td>\n",
       "      <td>20078200.0</td>\n",
       "      <td>137.960541</td>\n",
       "    </tr>\n",
       "    <tr>\n",
       "      <th>2019-10-22</th>\n",
       "      <td>Tuesday</td>\n",
       "      <td>False</td>\n",
       "      <td>140.009995</td>\n",
       "      <td>136.259995</td>\n",
       "      <td>138.970001</td>\n",
       "      <td>136.369995</td>\n",
       "      <td>27431000.0</td>\n",
       "      <td>135.907532</td>\n",
       "    </tr>\n",
       "    <tr>\n",
       "      <th>2019-10-23</th>\n",
       "      <td>Wednesday</td>\n",
       "      <td>False</td>\n",
       "      <td>137.449997</td>\n",
       "      <td>135.610001</td>\n",
       "      <td>136.880005</td>\n",
       "      <td>137.240005</td>\n",
       "      <td>29844600.0</td>\n",
       "      <td>136.774597</td>\n",
       "    </tr>\n",
       "    <tr>\n",
       "      <th>2019-10-24</th>\n",
       "      <td>Thursday</td>\n",
       "      <td>False</td>\n",
       "      <td>140.419998</td>\n",
       "      <td>138.669998</td>\n",
       "      <td>139.389999</td>\n",
       "      <td>139.940002</td>\n",
       "      <td>37029300.0</td>\n",
       "      <td>139.465439</td>\n",
       "    </tr>\n",
       "    <tr>\n",
       "      <th>2019-10-25</th>\n",
       "      <td>Friday</td>\n",
       "      <td>False</td>\n",
       "      <td>141.139999</td>\n",
       "      <td>139.199997</td>\n",
       "      <td>139.339996</td>\n",
       "      <td>140.729996</td>\n",
       "      <td>25959700.0</td>\n",
       "      <td>140.252747</td>\n",
       "    </tr>\n",
       "    <tr>\n",
       "      <th>2019-10-28</th>\n",
       "      <td>Monday</td>\n",
       "      <td>False</td>\n",
       "      <td>145.669998</td>\n",
       "      <td>143.509995</td>\n",
       "      <td>144.399994</td>\n",
       "      <td>144.190002</td>\n",
       "      <td>35280100.0</td>\n",
       "      <td>143.701019</td>\n",
       "    </tr>\n",
       "    <tr>\n",
       "      <th>2019-10-29</th>\n",
       "      <td>Tuesday</td>\n",
       "      <td>False</td>\n",
       "      <td>144.500000</td>\n",
       "      <td>142.649994</td>\n",
       "      <td>144.080002</td>\n",
       "      <td>142.830002</td>\n",
       "      <td>20589500.0</td>\n",
       "      <td>142.345642</td>\n",
       "    </tr>\n",
       "    <tr>\n",
       "      <th>2019-10-30</th>\n",
       "      <td>Wednesday</td>\n",
       "      <td>False</td>\n",
       "      <td>145.000000</td>\n",
       "      <td>142.789993</td>\n",
       "      <td>143.520004</td>\n",
       "      <td>144.610001</td>\n",
       "      <td>18496600.0</td>\n",
       "      <td>144.119598</td>\n",
       "    </tr>\n",
       "    <tr>\n",
       "      <th>2019-10-31</th>\n",
       "      <td>Thursday</td>\n",
       "      <td>False</td>\n",
       "      <td>144.929993</td>\n",
       "      <td>142.990005</td>\n",
       "      <td>144.899994</td>\n",
       "      <td>143.369995</td>\n",
       "      <td>24605100.0</td>\n",
       "      <td>142.883804</td>\n",
       "    </tr>\n",
       "    <tr>\n",
       "      <th>2019-11-01</th>\n",
       "      <td>Friday</td>\n",
       "      <td>True</td>\n",
       "      <td>144.419998</td>\n",
       "      <td>142.970001</td>\n",
       "      <td>144.259995</td>\n",
       "      <td>143.720001</td>\n",
       "      <td>33128400.0</td>\n",
       "      <td>143.232620</td>\n",
       "    </tr>\n",
       "    <tr>\n",
       "      <th>2019-11-04</th>\n",
       "      <td>Monday</td>\n",
       "      <td>False</td>\n",
       "      <td>145.000000</td>\n",
       "      <td>144.160004</td>\n",
       "      <td>144.830002</td>\n",
       "      <td>144.550003</td>\n",
       "      <td>16912000.0</td>\n",
       "      <td>144.059799</td>\n",
       "    </tr>\n",
       "    <tr>\n",
       "      <th>2019-11-05</th>\n",
       "      <td>Tuesday</td>\n",
       "      <td>False</td>\n",
       "      <td>145.020004</td>\n",
       "      <td>143.910004</td>\n",
       "      <td>144.970001</td>\n",
       "      <td>144.460007</td>\n",
       "      <td>18250200.0</td>\n",
       "      <td>143.970108</td>\n",
       "    </tr>\n",
       "    <tr>\n",
       "      <th>2019-11-06</th>\n",
       "      <td>Wednesday</td>\n",
       "      <td>False</td>\n",
       "      <td>144.520004</td>\n",
       "      <td>143.199997</td>\n",
       "      <td>144.369995</td>\n",
       "      <td>144.059998</td>\n",
       "      <td>16575800.0</td>\n",
       "      <td>143.571457</td>\n",
       "    </tr>\n",
       "    <tr>\n",
       "      <th>2019-11-07</th>\n",
       "      <td>Thursday</td>\n",
       "      <td>False</td>\n",
       "      <td>144.880005</td>\n",
       "      <td>143.770004</td>\n",
       "      <td>143.839996</td>\n",
       "      <td>144.259995</td>\n",
       "      <td>17786700.0</td>\n",
       "      <td>143.770782</td>\n",
       "    </tr>\n",
       "    <tr>\n",
       "      <th>2019-11-08</th>\n",
       "      <td>Friday</td>\n",
       "      <td>False</td>\n",
       "      <td>145.990005</td>\n",
       "      <td>143.759995</td>\n",
       "      <td>143.979996</td>\n",
       "      <td>145.960007</td>\n",
       "      <td>16732700.0</td>\n",
       "      <td>145.465027</td>\n",
       "    </tr>\n",
       "    <tr>\n",
       "      <th>2019-11-11</th>\n",
       "      <td>Monday</td>\n",
       "      <td>False</td>\n",
       "      <td>146.419998</td>\n",
       "      <td>144.729996</td>\n",
       "      <td>145.339996</td>\n",
       "      <td>146.110001</td>\n",
       "      <td>14362600.0</td>\n",
       "      <td>145.614517</td>\n",
       "    </tr>\n",
       "    <tr>\n",
       "      <th>2019-11-12</th>\n",
       "      <td>Tuesday</td>\n",
       "      <td>False</td>\n",
       "      <td>147.570007</td>\n",
       "      <td>146.059998</td>\n",
       "      <td>146.279999</td>\n",
       "      <td>147.070007</td>\n",
       "      <td>18641600.0</td>\n",
       "      <td>146.571259</td>\n",
       "    </tr>\n",
       "    <tr>\n",
       "      <th>2019-11-13</th>\n",
       "      <td>Wednesday</td>\n",
       "      <td>False</td>\n",
       "      <td>147.460007</td>\n",
       "      <td>146.279999</td>\n",
       "      <td>146.740005</td>\n",
       "      <td>147.309998</td>\n",
       "      <td>16919200.0</td>\n",
       "      <td>146.810440</td>\n",
       "    </tr>\n",
       "    <tr>\n",
       "      <th>2019-11-14</th>\n",
       "      <td>Thursday</td>\n",
       "      <td>False</td>\n",
       "      <td>148.410004</td>\n",
       "      <td>147.000000</td>\n",
       "      <td>147.020004</td>\n",
       "      <td>148.059998</td>\n",
       "      <td>19729800.0</td>\n",
       "      <td>147.557892</td>\n",
       "    </tr>\n",
       "    <tr>\n",
       "      <th>2019-11-15</th>\n",
       "      <td>Friday</td>\n",
       "      <td>False</td>\n",
       "      <td>149.990005</td>\n",
       "      <td>148.270004</td>\n",
       "      <td>148.929993</td>\n",
       "      <td>149.970001</td>\n",
       "      <td>23485700.0</td>\n",
       "      <td>149.461426</td>\n",
       "    </tr>\n",
       "    <tr>\n",
       "      <th>2019-11-18</th>\n",
       "      <td>Monday</td>\n",
       "      <td>False</td>\n",
       "      <td>150.550003</td>\n",
       "      <td>148.979996</td>\n",
       "      <td>150.070007</td>\n",
       "      <td>150.339996</td>\n",
       "      <td>21534000.0</td>\n",
       "      <td>149.830170</td>\n",
       "    </tr>\n",
       "    <tr>\n",
       "      <th>2019-11-19</th>\n",
       "      <td>Tuesday</td>\n",
       "      <td>False</td>\n",
       "      <td>151.330002</td>\n",
       "      <td>150.199997</td>\n",
       "      <td>150.880005</td>\n",
       "      <td>150.389999</td>\n",
       "      <td>23935700.0</td>\n",
       "      <td>149.879990</td>\n",
       "    </tr>\n",
       "    <tr>\n",
       "      <th>2019-11-20</th>\n",
       "      <td>Wednesday</td>\n",
       "      <td>False</td>\n",
       "      <td>150.839996</td>\n",
       "      <td>148.460007</td>\n",
       "      <td>150.309998</td>\n",
       "      <td>149.619995</td>\n",
       "      <td>25696800.0</td>\n",
       "      <td>149.619995</td>\n",
       "    </tr>\n",
       "    <tr>\n",
       "      <th>2019-11-21</th>\n",
       "      <td>Thursday</td>\n",
       "      <td>False</td>\n",
       "      <td>149.800003</td>\n",
       "      <td>148.500000</td>\n",
       "      <td>149.399994</td>\n",
       "      <td>149.479996</td>\n",
       "      <td>18576100.0</td>\n",
       "      <td>149.479996</td>\n",
       "    </tr>\n",
       "    <tr>\n",
       "      <th>2019-11-22</th>\n",
       "      <td>Friday</td>\n",
       "      <td>False</td>\n",
       "      <td>150.300003</td>\n",
       "      <td>148.820007</td>\n",
       "      <td>150.070007</td>\n",
       "      <td>149.589996</td>\n",
       "      <td>15901800.0</td>\n",
       "      <td>149.589996</td>\n",
       "    </tr>\n",
       "    <tr>\n",
       "      <th>2019-11-25</th>\n",
       "      <td>Monday</td>\n",
       "      <td>False</td>\n",
       "      <td>151.350006</td>\n",
       "      <td>149.919998</td>\n",
       "      <td>150.000000</td>\n",
       "      <td>151.229996</td>\n",
       "      <td>22420900.0</td>\n",
       "      <td>151.229996</td>\n",
       "    </tr>\n",
       "  </tbody>\n",
       "</table>\n",
       "<p>2493 rows × 8 columns</p>\n",
       "</div>"
      ],
      "text/plain": [
       "           Day of Week  Is Start of Month        High         Low        Open  \\\n",
       "Date                                                                            \n",
       "2009-12-31    Thursday              False   30.990000   30.480000   30.980000   \n",
       "2010-01-04      Monday              False   31.100000   30.590000   30.620001   \n",
       "2010-01-05     Tuesday              False   31.100000   30.639999   30.850000   \n",
       "2010-01-06   Wednesday              False   31.080000   30.520000   30.879999   \n",
       "2010-01-07    Thursday              False   30.700001   30.190001   30.629999   \n",
       "2010-01-08      Friday              False   30.879999   30.240000   30.280001   \n",
       "2010-01-11      Monday              False   30.760000   30.120001   30.709999   \n",
       "2010-01-12     Tuesday              False   30.400000   29.910000   30.150000   \n",
       "2010-01-13   Wednesday              False   30.520000   30.010000   30.260000   \n",
       "2010-01-14    Thursday              False   31.100000   30.260000   30.309999   \n",
       "2010-01-15      Friday              False   31.240000   30.709999   31.080000   \n",
       "2010-01-19     Tuesday              False   31.240000   30.680000   30.750000   \n",
       "2010-01-20   Wednesday              False   30.940001   30.309999   30.809999   \n",
       "2010-01-21    Thursday              False   30.719999   30.000000   30.610001   \n",
       "2010-01-22      Friday              False   30.200001   28.840000   30.000000   \n",
       "2010-01-25      Monday              False   29.660000   29.100000   29.240000   \n",
       "2010-01-26     Tuesday              False   29.850000   29.090000   29.200001   \n",
       "2010-01-27   Wednesday              False   29.820000   29.020000   29.350000   \n",
       "2010-01-28    Thursday              False   29.870001   28.889999   29.840000   \n",
       "2010-01-29      Friday              False   29.920000   27.660000   29.900000   \n",
       "2010-02-01      Monday               True   28.480000   27.920000   28.389999   \n",
       "2010-02-02     Tuesday              False   28.500000   28.139999   28.370001   \n",
       "2010-02-03   Wednesday              False   28.790001   28.120001   28.260000   \n",
       "2010-02-04    Thursday              False   28.500000   27.809999   28.379999   \n",
       "2010-02-05      Friday              False   28.280001   27.570000   28.000000   \n",
       "2010-02-08      Monday              False   28.080000   27.570000   28.010000   \n",
       "2010-02-09     Tuesday              False   28.340000   27.750000   27.969999   \n",
       "2010-02-10   Wednesday              False   28.240000   27.840000   28.030001   \n",
       "2010-02-11    Thursday              False   28.400000   27.700001   27.930000   \n",
       "2010-02-12      Friday              False   28.059999   27.580000   27.809999   \n",
       "...                ...                ...         ...         ...         ...   \n",
       "2019-10-15     Tuesday              False  141.789993  139.809998  140.059998   \n",
       "2019-10-16   Wednesday              False  140.990005  139.529999  140.789993   \n",
       "2019-10-17    Thursday              False  141.419998  139.020004  140.949997   \n",
       "2019-10-18      Friday              False  140.000000  136.559998  139.759995   \n",
       "2019-10-21      Monday              False  138.500000  137.009995  138.449997   \n",
       "2019-10-22     Tuesday              False  140.009995  136.259995  138.970001   \n",
       "2019-10-23   Wednesday              False  137.449997  135.610001  136.880005   \n",
       "2019-10-24    Thursday              False  140.419998  138.669998  139.389999   \n",
       "2019-10-25      Friday              False  141.139999  139.199997  139.339996   \n",
       "2019-10-28      Monday              False  145.669998  143.509995  144.399994   \n",
       "2019-10-29     Tuesday              False  144.500000  142.649994  144.080002   \n",
       "2019-10-30   Wednesday              False  145.000000  142.789993  143.520004   \n",
       "2019-10-31    Thursday              False  144.929993  142.990005  144.899994   \n",
       "2019-11-01      Friday               True  144.419998  142.970001  144.259995   \n",
       "2019-11-04      Monday              False  145.000000  144.160004  144.830002   \n",
       "2019-11-05     Tuesday              False  145.020004  143.910004  144.970001   \n",
       "2019-11-06   Wednesday              False  144.520004  143.199997  144.369995   \n",
       "2019-11-07    Thursday              False  144.880005  143.770004  143.839996   \n",
       "2019-11-08      Friday              False  145.990005  143.759995  143.979996   \n",
       "2019-11-11      Monday              False  146.419998  144.729996  145.339996   \n",
       "2019-11-12     Tuesday              False  147.570007  146.059998  146.279999   \n",
       "2019-11-13   Wednesday              False  147.460007  146.279999  146.740005   \n",
       "2019-11-14    Thursday              False  148.410004  147.000000  147.020004   \n",
       "2019-11-15      Friday              False  149.990005  148.270004  148.929993   \n",
       "2019-11-18      Monday              False  150.550003  148.979996  150.070007   \n",
       "2019-11-19     Tuesday              False  151.330002  150.199997  150.880005   \n",
       "2019-11-20   Wednesday              False  150.839996  148.460007  150.309998   \n",
       "2019-11-21    Thursday              False  149.800003  148.500000  149.399994   \n",
       "2019-11-22      Friday              False  150.300003  148.820007  150.070007   \n",
       "2019-11-25      Monday              False  151.350006  149.919998  150.000000   \n",
       "\n",
       "                 Close       Volume   Adj Close  \n",
       "Date                                             \n",
       "2009-12-31   30.480000   31929700.0   23.990791  \n",
       "2010-01-04   30.950001   38409100.0   24.360727  \n",
       "2010-01-05   30.959999   49749600.0   24.368599  \n",
       "2010-01-06   30.770000   58182400.0   24.219046  \n",
       "2010-01-07   30.450001   50559700.0   23.967175  \n",
       "2010-01-08   30.660000   51197400.0   24.132469  \n",
       "2010-01-11   30.270000   68754700.0   23.825497  \n",
       "2010-01-12   30.070000   65912100.0   23.668074  \n",
       "2010-01-13   30.350000   51863500.0   23.888464  \n",
       "2010-01-14   30.959999   63228100.0   24.368599  \n",
       "2010-01-15   30.860001   79913200.0   24.289886  \n",
       "2010-01-19   31.100000   46575700.0   24.478792  \n",
       "2010-01-20   30.590000   54849500.0   24.077366  \n",
       "2010-01-21   30.010000   73086700.0   23.620857  \n",
       "2010-01-22   28.959999  102004600.0   22.794395  \n",
       "2010-01-25   29.320000   63373000.0   23.077757  \n",
       "2010-01-26   29.500000   66639900.0   23.219431  \n",
       "2010-01-27   29.670000   63949500.0   23.353241  \n",
       "2010-01-28   29.160000  117513700.0   22.951815  \n",
       "2010-01-29   28.180000  193888500.0   22.180464  \n",
       "2010-02-01   28.410000   85931100.0   22.361494  \n",
       "2010-02-02   28.459999   54413700.0   22.400845  \n",
       "2010-02-03   28.629999   61397900.0   22.534660  \n",
       "2010-02-04   27.840000   77850000.0   21.912851  \n",
       "2010-02-05   28.020000   80960100.0   22.054527  \n",
       "2010-02-08   27.719999   52820600.0   21.818392  \n",
       "2010-02-09   28.010000   59195800.0   22.046650  \n",
       "2010-02-10   27.990000   48591300.0   22.030914  \n",
       "2010-02-11   28.120001   65993700.0   22.133238  \n",
       "2010-02-12   27.930000   81117200.0   21.983685  \n",
       "...                ...          ...         ...  \n",
       "2019-10-15  141.570007   19695700.0  141.089920  \n",
       "2019-10-16  140.410004   20751600.0  139.933838  \n",
       "2019-10-17  139.690002   21460600.0  139.216278  \n",
       "2019-10-18  137.410004   32273500.0  136.944016  \n",
       "2019-10-21  138.429993   20078200.0  137.960541  \n",
       "2019-10-22  136.369995   27431000.0  135.907532  \n",
       "2019-10-23  137.240005   29844600.0  136.774597  \n",
       "2019-10-24  139.940002   37029300.0  139.465439  \n",
       "2019-10-25  140.729996   25959700.0  140.252747  \n",
       "2019-10-28  144.190002   35280100.0  143.701019  \n",
       "2019-10-29  142.830002   20589500.0  142.345642  \n",
       "2019-10-30  144.610001   18496600.0  144.119598  \n",
       "2019-10-31  143.369995   24605100.0  142.883804  \n",
       "2019-11-01  143.720001   33128400.0  143.232620  \n",
       "2019-11-04  144.550003   16912000.0  144.059799  \n",
       "2019-11-05  144.460007   18250200.0  143.970108  \n",
       "2019-11-06  144.059998   16575800.0  143.571457  \n",
       "2019-11-07  144.259995   17786700.0  143.770782  \n",
       "2019-11-08  145.960007   16732700.0  145.465027  \n",
       "2019-11-11  146.110001   14362600.0  145.614517  \n",
       "2019-11-12  147.070007   18641600.0  146.571259  \n",
       "2019-11-13  147.309998   16919200.0  146.810440  \n",
       "2019-11-14  148.059998   19729800.0  147.557892  \n",
       "2019-11-15  149.970001   23485700.0  149.461426  \n",
       "2019-11-18  150.339996   21534000.0  149.830170  \n",
       "2019-11-19  150.389999   23935700.0  149.879990  \n",
       "2019-11-20  149.619995   25696800.0  149.619995  \n",
       "2019-11-21  149.479996   18576100.0  149.479996  \n",
       "2019-11-22  149.589996   15901800.0  149.589996  \n",
       "2019-11-25  151.229996   22420900.0  151.229996  \n",
       "\n",
       "[2493 rows x 8 columns]"
      ]
     },
     "execution_count": 29,
     "metadata": {},
     "output_type": "execute_result"
    }
   ],
   "source": [
    "stocks"
   ]
  },
  {
   "cell_type": "markdown",
   "metadata": {
    "collapsed": true
   },
   "source": [
    "## The `.truncate()` Method"
   ]
  },
  {
   "cell_type": "code",
   "execution_count": 56,
   "metadata": {},
   "outputs": [
    {
     "data": {
      "text/html": [
       "<div>\n",
       "<style scoped>\n",
       "    .dataframe tbody tr th:only-of-type {\n",
       "        vertical-align: middle;\n",
       "    }\n",
       "\n",
       "    .dataframe tbody tr th {\n",
       "        vertical-align: top;\n",
       "    }\n",
       "\n",
       "    .dataframe thead th {\n",
       "        text-align: right;\n",
       "    }\n",
       "</style>\n",
       "<table border=\"1\" class=\"dataframe\">\n",
       "  <thead>\n",
       "    <tr style=\"text-align: right;\">\n",
       "      <th></th>\n",
       "      <th>High</th>\n",
       "      <th>Low</th>\n",
       "      <th>Open</th>\n",
       "      <th>Close</th>\n",
       "      <th>Volume</th>\n",
       "      <th>Adj Close</th>\n",
       "    </tr>\n",
       "    <tr>\n",
       "      <th>Date</th>\n",
       "      <th></th>\n",
       "      <th></th>\n",
       "      <th></th>\n",
       "      <th></th>\n",
       "      <th></th>\n",
       "      <th></th>\n",
       "    </tr>\n",
       "  </thead>\n",
       "  <tbody>\n",
       "    <tr>\n",
       "      <th>2020-01-23</th>\n",
       "      <td>166.800003</td>\n",
       "      <td>165.270004</td>\n",
       "      <td>166.190002</td>\n",
       "      <td>166.720001</td>\n",
       "      <td>19680800.0</td>\n",
       "      <td>166.720001</td>\n",
       "    </tr>\n",
       "    <tr>\n",
       "      <th>2020-01-24</th>\n",
       "      <td>167.529999</td>\n",
       "      <td>164.449997</td>\n",
       "      <td>167.509995</td>\n",
       "      <td>165.039993</td>\n",
       "      <td>24918100.0</td>\n",
       "      <td>165.039993</td>\n",
       "    </tr>\n",
       "    <tr>\n",
       "      <th>2020-01-27</th>\n",
       "      <td>163.380005</td>\n",
       "      <td>160.199997</td>\n",
       "      <td>161.149994</td>\n",
       "      <td>162.279999</td>\n",
       "      <td>32046900.0</td>\n",
       "      <td>162.279999</td>\n",
       "    </tr>\n",
       "  </tbody>\n",
       "</table>\n",
       "</div>"
      ],
      "text/plain": [
       "                  High         Low        Open       Close      Volume  \\\n",
       "Date                                                                     \n",
       "2020-01-23  166.800003  165.270004  166.190002  166.720001  19680800.0   \n",
       "2020-01-24  167.529999  164.449997  167.509995  165.039993  24918100.0   \n",
       "2020-01-27  163.380005  160.199997  161.149994  162.279999  32046900.0   \n",
       "\n",
       "             Adj Close  \n",
       "Date                    \n",
       "2020-01-23  166.720001  \n",
       "2020-01-24  165.039993  \n",
       "2020-01-27  162.279999  "
      ]
     },
     "execution_count": 56,
     "metadata": {},
     "output_type": "execute_result"
    }
   ],
   "source": [
    "stocks = data.DataReader(name = company, data_source = \"yahoo\", start = start, end = dt.datetime.now())\n",
    "stocks.tail(3)"
   ]
  },
  {
   "cell_type": "code",
   "execution_count": 55,
   "metadata": {},
   "outputs": [
    {
     "data": {
      "text/html": [
       "<div>\n",
       "<style scoped>\n",
       "    .dataframe tbody tr th:only-of-type {\n",
       "        vertical-align: middle;\n",
       "    }\n",
       "\n",
       "    .dataframe tbody tr th {\n",
       "        vertical-align: top;\n",
       "    }\n",
       "\n",
       "    .dataframe thead th {\n",
       "        text-align: right;\n",
       "    }\n",
       "</style>\n",
       "<table border=\"1\" class=\"dataframe\">\n",
       "  <thead>\n",
       "    <tr style=\"text-align: right;\">\n",
       "      <th></th>\n",
       "      <th>High</th>\n",
       "      <th>Low</th>\n",
       "      <th>Open</th>\n",
       "      <th>Close</th>\n",
       "      <th>Volume</th>\n",
       "      <th>Adj Close</th>\n",
       "    </tr>\n",
       "    <tr>\n",
       "      <th>Date</th>\n",
       "      <th></th>\n",
       "      <th></th>\n",
       "      <th></th>\n",
       "      <th></th>\n",
       "      <th></th>\n",
       "      <th></th>\n",
       "    </tr>\n",
       "  </thead>\n",
       "  <tbody>\n",
       "    <tr>\n",
       "      <th>2012-06-07</th>\n",
       "      <td>29.700001</td>\n",
       "      <td>29.170000</td>\n",
       "      <td>29.639999</td>\n",
       "      <td>29.230000</td>\n",
       "      <td>37792800.0</td>\n",
       "      <td>24.428007</td>\n",
       "    </tr>\n",
       "    <tr>\n",
       "      <th>2012-06-08</th>\n",
       "      <td>29.680000</td>\n",
       "      <td>29.049999</td>\n",
       "      <td>29.209999</td>\n",
       "      <td>29.650000</td>\n",
       "      <td>42551100.0</td>\n",
       "      <td>24.779005</td>\n",
       "    </tr>\n",
       "    <tr>\n",
       "      <th>2012-06-11</th>\n",
       "      <td>29.809999</td>\n",
       "      <td>28.820000</td>\n",
       "      <td>29.730000</td>\n",
       "      <td>28.900000</td>\n",
       "      <td>46361900.0</td>\n",
       "      <td>24.152220</td>\n",
       "    </tr>\n",
       "    <tr>\n",
       "      <th>2012-06-12</th>\n",
       "      <td>29.299999</td>\n",
       "      <td>28.840000</td>\n",
       "      <td>29.100000</td>\n",
       "      <td>29.290001</td>\n",
       "      <td>35337900.0</td>\n",
       "      <td>24.478146</td>\n",
       "    </tr>\n",
       "    <tr>\n",
       "      <th>2012-06-13</th>\n",
       "      <td>29.440001</td>\n",
       "      <td>29.049999</td>\n",
       "      <td>29.219999</td>\n",
       "      <td>29.129999</td>\n",
       "      <td>32984600.0</td>\n",
       "      <td>24.344433</td>\n",
       "    </tr>\n",
       "    <tr>\n",
       "      <th>2012-06-14</th>\n",
       "      <td>29.459999</td>\n",
       "      <td>28.879999</td>\n",
       "      <td>29.330000</td>\n",
       "      <td>29.340000</td>\n",
       "      <td>39458900.0</td>\n",
       "      <td>24.519939</td>\n",
       "    </tr>\n",
       "    <tr>\n",
       "      <th>2012-06-15</th>\n",
       "      <td>30.080000</td>\n",
       "      <td>29.490000</td>\n",
       "      <td>29.590000</td>\n",
       "      <td>30.020000</td>\n",
       "      <td>62314400.0</td>\n",
       "      <td>25.088223</td>\n",
       "    </tr>\n",
       "    <tr>\n",
       "      <th>2012-06-18</th>\n",
       "      <td>30.030001</td>\n",
       "      <td>29.709999</td>\n",
       "      <td>29.990000</td>\n",
       "      <td>29.840000</td>\n",
       "      <td>58679900.0</td>\n",
       "      <td>24.937798</td>\n",
       "    </tr>\n",
       "    <tr>\n",
       "      <th>2012-06-19</th>\n",
       "      <td>31.110001</td>\n",
       "      <td>30.049999</td>\n",
       "      <td>30.190001</td>\n",
       "      <td>30.700001</td>\n",
       "      <td>75725800.0</td>\n",
       "      <td>25.656513</td>\n",
       "    </tr>\n",
       "    <tr>\n",
       "      <th>2012-06-20</th>\n",
       "      <td>31.049999</td>\n",
       "      <td>30.639999</td>\n",
       "      <td>30.930000</td>\n",
       "      <td>30.930000</td>\n",
       "      <td>36257100.0</td>\n",
       "      <td>25.848724</td>\n",
       "    </tr>\n",
       "    <tr>\n",
       "      <th>2012-06-21</th>\n",
       "      <td>31.139999</td>\n",
       "      <td>30.059999</td>\n",
       "      <td>30.959999</td>\n",
       "      <td>30.139999</td>\n",
       "      <td>48456600.0</td>\n",
       "      <td>25.188513</td>\n",
       "    </tr>\n",
       "    <tr>\n",
       "      <th>2012-06-22</th>\n",
       "      <td>30.730000</td>\n",
       "      <td>30.030001</td>\n",
       "      <td>30.299999</td>\n",
       "      <td>30.700001</td>\n",
       "      <td>45098100.0</td>\n",
       "      <td>25.656513</td>\n",
       "    </tr>\n",
       "    <tr>\n",
       "      <th>2012-06-25</th>\n",
       "      <td>30.320000</td>\n",
       "      <td>29.620001</td>\n",
       "      <td>30.299999</td>\n",
       "      <td>29.870001</td>\n",
       "      <td>42217200.0</td>\n",
       "      <td>24.962868</td>\n",
       "    </tr>\n",
       "    <tr>\n",
       "      <th>2012-06-26</th>\n",
       "      <td>30.270000</td>\n",
       "      <td>29.940001</td>\n",
       "      <td>30.000000</td>\n",
       "      <td>30.020000</td>\n",
       "      <td>38421300.0</td>\n",
       "      <td>25.088223</td>\n",
       "    </tr>\n",
       "    <tr>\n",
       "      <th>2012-06-27</th>\n",
       "      <td>30.500000</td>\n",
       "      <td>30.030001</td>\n",
       "      <td>30.190001</td>\n",
       "      <td>30.170000</td>\n",
       "      <td>33781700.0</td>\n",
       "      <td>25.213581</td>\n",
       "    </tr>\n",
       "    <tr>\n",
       "      <th>2012-06-28</th>\n",
       "      <td>30.049999</td>\n",
       "      <td>29.420000</td>\n",
       "      <td>29.980000</td>\n",
       "      <td>29.910000</td>\n",
       "      <td>45328400.0</td>\n",
       "      <td>24.996296</td>\n",
       "    </tr>\n",
       "    <tr>\n",
       "      <th>2012-06-29</th>\n",
       "      <td>30.690001</td>\n",
       "      <td>30.139999</td>\n",
       "      <td>30.450001</td>\n",
       "      <td>30.590000</td>\n",
       "      <td>55227200.0</td>\n",
       "      <td>25.564577</td>\n",
       "    </tr>\n",
       "    <tr>\n",
       "      <th>2012-07-02</th>\n",
       "      <td>30.620001</td>\n",
       "      <td>30.209999</td>\n",
       "      <td>30.620001</td>\n",
       "      <td>30.559999</td>\n",
       "      <td>30589100.0</td>\n",
       "      <td>25.539513</td>\n",
       "    </tr>\n",
       "    <tr>\n",
       "      <th>2012-07-03</th>\n",
       "      <td>30.760000</td>\n",
       "      <td>30.170000</td>\n",
       "      <td>30.230000</td>\n",
       "      <td>30.760000</td>\n",
       "      <td>20938100.0</td>\n",
       "      <td>25.706657</td>\n",
       "    </tr>\n",
       "    <tr>\n",
       "      <th>2012-07-05</th>\n",
       "      <td>30.780001</td>\n",
       "      <td>30.379999</td>\n",
       "      <td>30.590000</td>\n",
       "      <td>30.700001</td>\n",
       "      <td>28801900.0</td>\n",
       "      <td>25.656513</td>\n",
       "    </tr>\n",
       "    <tr>\n",
       "      <th>2012-07-06</th>\n",
       "      <td>30.700001</td>\n",
       "      <td>29.950001</td>\n",
       "      <td>30.610001</td>\n",
       "      <td>30.190001</td>\n",
       "      <td>38294800.0</td>\n",
       "      <td>25.230295</td>\n",
       "    </tr>\n",
       "    <tr>\n",
       "      <th>2012-07-09</th>\n",
       "      <td>30.230000</td>\n",
       "      <td>29.780001</td>\n",
       "      <td>30.120001</td>\n",
       "      <td>30.000000</td>\n",
       "      <td>30680800.0</td>\n",
       "      <td>25.071507</td>\n",
       "    </tr>\n",
       "    <tr>\n",
       "      <th>2012-07-10</th>\n",
       "      <td>30.219999</td>\n",
       "      <td>29.510000</td>\n",
       "      <td>30.080000</td>\n",
       "      <td>29.740000</td>\n",
       "      <td>37534100.0</td>\n",
       "      <td>24.854221</td>\n",
       "    </tr>\n",
       "    <tr>\n",
       "      <th>2012-07-11</th>\n",
       "      <td>29.740000</td>\n",
       "      <td>29.110001</td>\n",
       "      <td>29.709999</td>\n",
       "      <td>29.299999</td>\n",
       "      <td>39184900.0</td>\n",
       "      <td>24.486507</td>\n",
       "    </tr>\n",
       "    <tr>\n",
       "      <th>2012-07-12</th>\n",
       "      <td>29.180000</td>\n",
       "      <td>28.540001</td>\n",
       "      <td>29.150000</td>\n",
       "      <td>28.629999</td>\n",
       "      <td>63523600.0</td>\n",
       "      <td>23.926579</td>\n",
       "    </tr>\n",
       "    <tr>\n",
       "      <th>2012-07-13</th>\n",
       "      <td>29.480000</td>\n",
       "      <td>28.719999</td>\n",
       "      <td>28.760000</td>\n",
       "      <td>29.389999</td>\n",
       "      <td>39085000.0</td>\n",
       "      <td>24.561728</td>\n",
       "    </tr>\n",
       "    <tr>\n",
       "      <th>2012-07-16</th>\n",
       "      <td>29.530001</td>\n",
       "      <td>29.040001</td>\n",
       "      <td>29.480000</td>\n",
       "      <td>29.440001</td>\n",
       "      <td>27900600.0</td>\n",
       "      <td>24.603508</td>\n",
       "    </tr>\n",
       "    <tr>\n",
       "      <th>2012-07-17</th>\n",
       "      <td>29.860001</td>\n",
       "      <td>29.200001</td>\n",
       "      <td>29.639999</td>\n",
       "      <td>29.660000</td>\n",
       "      <td>33771300.0</td>\n",
       "      <td>24.787371</td>\n",
       "    </tr>\n",
       "    <tr>\n",
       "      <th>2012-07-18</th>\n",
       "      <td>30.450001</td>\n",
       "      <td>29.459999</td>\n",
       "      <td>29.600000</td>\n",
       "      <td>30.450001</td>\n",
       "      <td>41090400.0</td>\n",
       "      <td>25.447578</td>\n",
       "    </tr>\n",
       "    <tr>\n",
       "      <th>2012-07-19</th>\n",
       "      <td>30.799999</td>\n",
       "      <td>30.379999</td>\n",
       "      <td>30.510000</td>\n",
       "      <td>30.670000</td>\n",
       "      <td>46663200.0</td>\n",
       "      <td>25.631439</td>\n",
       "    </tr>\n",
       "    <tr>\n",
       "      <th>...</th>\n",
       "      <td>...</td>\n",
       "      <td>...</td>\n",
       "      <td>...</td>\n",
       "      <td>...</td>\n",
       "      <td>...</td>\n",
       "      <td>...</td>\n",
       "    </tr>\n",
       "    <tr>\n",
       "      <th>2013-01-16</th>\n",
       "      <td>27.230000</td>\n",
       "      <td>27.010000</td>\n",
       "      <td>27.150000</td>\n",
       "      <td>27.040001</td>\n",
       "      <td>41077400.0</td>\n",
       "      <td>22.934414</td>\n",
       "    </tr>\n",
       "    <tr>\n",
       "      <th>2013-01-17</th>\n",
       "      <td>27.469999</td>\n",
       "      <td>27.059999</td>\n",
       "      <td>27.190001</td>\n",
       "      <td>27.250000</td>\n",
       "      <td>51685900.0</td>\n",
       "      <td>23.112528</td>\n",
       "    </tr>\n",
       "    <tr>\n",
       "      <th>2013-01-18</th>\n",
       "      <td>27.290001</td>\n",
       "      <td>27.040001</td>\n",
       "      <td>27.100000</td>\n",
       "      <td>27.250000</td>\n",
       "      <td>52167700.0</td>\n",
       "      <td>23.112528</td>\n",
       "    </tr>\n",
       "    <tr>\n",
       "      <th>2013-01-22</th>\n",
       "      <td>27.450001</td>\n",
       "      <td>27.000000</td>\n",
       "      <td>27.299999</td>\n",
       "      <td>27.150000</td>\n",
       "      <td>58650600.0</td>\n",
       "      <td>23.027710</td>\n",
       "    </tr>\n",
       "    <tr>\n",
       "      <th>2013-01-23</th>\n",
       "      <td>27.639999</td>\n",
       "      <td>27.200001</td>\n",
       "      <td>27.200001</td>\n",
       "      <td>27.610001</td>\n",
       "      <td>50387700.0</td>\n",
       "      <td>23.417864</td>\n",
       "    </tr>\n",
       "    <tr>\n",
       "      <th>2013-01-24</th>\n",
       "      <td>28.070000</td>\n",
       "      <td>27.469999</td>\n",
       "      <td>27.700001</td>\n",
       "      <td>27.629999</td>\n",
       "      <td>101739300.0</td>\n",
       "      <td>23.434830</td>\n",
       "    </tr>\n",
       "    <tr>\n",
       "      <th>2013-01-25</th>\n",
       "      <td>28.230000</td>\n",
       "      <td>27.389999</td>\n",
       "      <td>27.580000</td>\n",
       "      <td>27.879999</td>\n",
       "      <td>81847700.0</td>\n",
       "      <td>23.646870</td>\n",
       "    </tr>\n",
       "    <tr>\n",
       "      <th>2013-01-28</th>\n",
       "      <td>28.230000</td>\n",
       "      <td>27.760000</td>\n",
       "      <td>28.010000</td>\n",
       "      <td>27.910000</td>\n",
       "      <td>56056500.0</td>\n",
       "      <td>23.672318</td>\n",
       "    </tr>\n",
       "    <tr>\n",
       "      <th>2013-01-29</th>\n",
       "      <td>28.129999</td>\n",
       "      <td>27.600000</td>\n",
       "      <td>27.820000</td>\n",
       "      <td>28.010000</td>\n",
       "      <td>49242600.0</td>\n",
       "      <td>23.757130</td>\n",
       "    </tr>\n",
       "    <tr>\n",
       "      <th>2013-01-30</th>\n",
       "      <td>28.190001</td>\n",
       "      <td>27.760000</td>\n",
       "      <td>28.010000</td>\n",
       "      <td>27.850000</td>\n",
       "      <td>43580500.0</td>\n",
       "      <td>23.621424</td>\n",
       "    </tr>\n",
       "    <tr>\n",
       "      <th>2013-01-31</th>\n",
       "      <td>27.969999</td>\n",
       "      <td>27.400000</td>\n",
       "      <td>27.790001</td>\n",
       "      <td>27.450001</td>\n",
       "      <td>50530000.0</td>\n",
       "      <td>23.282162</td>\n",
       "    </tr>\n",
       "    <tr>\n",
       "      <th>2013-02-01</th>\n",
       "      <td>28.049999</td>\n",
       "      <td>27.549999</td>\n",
       "      <td>27.670000</td>\n",
       "      <td>27.930000</td>\n",
       "      <td>55565900.0</td>\n",
       "      <td>23.689287</td>\n",
       "    </tr>\n",
       "    <tr>\n",
       "      <th>2013-02-04</th>\n",
       "      <td>28.020000</td>\n",
       "      <td>27.420000</td>\n",
       "      <td>27.870001</td>\n",
       "      <td>27.440001</td>\n",
       "      <td>50540000.0</td>\n",
       "      <td>23.273678</td>\n",
       "    </tr>\n",
       "    <tr>\n",
       "      <th>2013-02-05</th>\n",
       "      <td>27.660000</td>\n",
       "      <td>27.360001</td>\n",
       "      <td>27.620001</td>\n",
       "      <td>27.500000</td>\n",
       "      <td>35410400.0</td>\n",
       "      <td>23.324570</td>\n",
       "    </tr>\n",
       "    <tr>\n",
       "      <th>2013-02-06</th>\n",
       "      <td>27.540001</td>\n",
       "      <td>27.250000</td>\n",
       "      <td>27.379999</td>\n",
       "      <td>27.340000</td>\n",
       "      <td>41889600.0</td>\n",
       "      <td>23.188860</td>\n",
       "    </tr>\n",
       "    <tr>\n",
       "      <th>2013-02-07</th>\n",
       "      <td>27.389999</td>\n",
       "      <td>27.100000</td>\n",
       "      <td>27.350000</td>\n",
       "      <td>27.280001</td>\n",
       "      <td>38028300.0</td>\n",
       "      <td>23.137970</td>\n",
       "    </tr>\n",
       "    <tr>\n",
       "      <th>2013-02-08</th>\n",
       "      <td>27.709999</td>\n",
       "      <td>27.309999</td>\n",
       "      <td>27.350000</td>\n",
       "      <td>27.549999</td>\n",
       "      <td>33318500.0</td>\n",
       "      <td>23.366976</td>\n",
       "    </tr>\n",
       "    <tr>\n",
       "      <th>2013-02-11</th>\n",
       "      <td>27.920000</td>\n",
       "      <td>27.500000</td>\n",
       "      <td>27.650000</td>\n",
       "      <td>27.860001</td>\n",
       "      <td>32247700.0</td>\n",
       "      <td>23.629908</td>\n",
       "    </tr>\n",
       "    <tr>\n",
       "      <th>2013-02-12</th>\n",
       "      <td>28.000000</td>\n",
       "      <td>27.750000</td>\n",
       "      <td>27.879999</td>\n",
       "      <td>27.879999</td>\n",
       "      <td>35990900.0</td>\n",
       "      <td>23.646870</td>\n",
       "    </tr>\n",
       "    <tr>\n",
       "      <th>2013-02-13</th>\n",
       "      <td>28.110001</td>\n",
       "      <td>27.879999</td>\n",
       "      <td>27.930000</td>\n",
       "      <td>28.030001</td>\n",
       "      <td>41715600.0</td>\n",
       "      <td>23.774094</td>\n",
       "    </tr>\n",
       "    <tr>\n",
       "      <th>2013-02-14</th>\n",
       "      <td>28.059999</td>\n",
       "      <td>27.870001</td>\n",
       "      <td>27.920000</td>\n",
       "      <td>28.040001</td>\n",
       "      <td>32663200.0</td>\n",
       "      <td>23.782583</td>\n",
       "    </tr>\n",
       "    <tr>\n",
       "      <th>2013-02-15</th>\n",
       "      <td>28.160000</td>\n",
       "      <td>27.879999</td>\n",
       "      <td>28.040001</td>\n",
       "      <td>28.010000</td>\n",
       "      <td>49650900.0</td>\n",
       "      <td>23.757130</td>\n",
       "    </tr>\n",
       "    <tr>\n",
       "      <th>2013-02-19</th>\n",
       "      <td>28.090000</td>\n",
       "      <td>27.799999</td>\n",
       "      <td>27.879999</td>\n",
       "      <td>28.049999</td>\n",
       "      <td>38781400.0</td>\n",
       "      <td>23.988035</td>\n",
       "    </tr>\n",
       "    <tr>\n",
       "      <th>2013-02-20</th>\n",
       "      <td>28.200001</td>\n",
       "      <td>27.830000</td>\n",
       "      <td>28.129999</td>\n",
       "      <td>27.870001</td>\n",
       "      <td>44110200.0</td>\n",
       "      <td>23.834103</td>\n",
       "    </tr>\n",
       "    <tr>\n",
       "      <th>2013-02-21</th>\n",
       "      <td>27.740000</td>\n",
       "      <td>27.230000</td>\n",
       "      <td>27.740000</td>\n",
       "      <td>27.490000</td>\n",
       "      <td>49078500.0</td>\n",
       "      <td>23.509130</td>\n",
       "    </tr>\n",
       "    <tr>\n",
       "      <th>2013-02-22</th>\n",
       "      <td>27.760000</td>\n",
       "      <td>27.480000</td>\n",
       "      <td>27.680000</td>\n",
       "      <td>27.760000</td>\n",
       "      <td>31425900.0</td>\n",
       "      <td>23.740028</td>\n",
       "    </tr>\n",
       "    <tr>\n",
       "      <th>2013-02-25</th>\n",
       "      <td>28.049999</td>\n",
       "      <td>27.370001</td>\n",
       "      <td>27.969999</td>\n",
       "      <td>27.370001</td>\n",
       "      <td>48011800.0</td>\n",
       "      <td>23.406507</td>\n",
       "    </tr>\n",
       "    <tr>\n",
       "      <th>2013-02-26</th>\n",
       "      <td>27.600000</td>\n",
       "      <td>27.340000</td>\n",
       "      <td>27.379999</td>\n",
       "      <td>27.370001</td>\n",
       "      <td>49923300.0</td>\n",
       "      <td>23.406507</td>\n",
       "    </tr>\n",
       "    <tr>\n",
       "      <th>2013-02-27</th>\n",
       "      <td>28.000000</td>\n",
       "      <td>27.330000</td>\n",
       "      <td>27.420000</td>\n",
       "      <td>27.809999</td>\n",
       "      <td>36394700.0</td>\n",
       "      <td>23.782784</td>\n",
       "    </tr>\n",
       "    <tr>\n",
       "      <th>2013-02-28</th>\n",
       "      <td>27.969999</td>\n",
       "      <td>27.740000</td>\n",
       "      <td>27.879999</td>\n",
       "      <td>27.799999</td>\n",
       "      <td>35840200.0</td>\n",
       "      <td>23.774239</td>\n",
       "    </tr>\n",
       "  </tbody>\n",
       "</table>\n",
       "<p>182 rows × 6 columns</p>\n",
       "</div>"
      ],
      "text/plain": [
       "                 High        Low       Open      Close       Volume  Adj Close\n",
       "Date                                                                          \n",
       "2012-06-07  29.700001  29.170000  29.639999  29.230000   37792800.0  24.428007\n",
       "2012-06-08  29.680000  29.049999  29.209999  29.650000   42551100.0  24.779005\n",
       "2012-06-11  29.809999  28.820000  29.730000  28.900000   46361900.0  24.152220\n",
       "2012-06-12  29.299999  28.840000  29.100000  29.290001   35337900.0  24.478146\n",
       "2012-06-13  29.440001  29.049999  29.219999  29.129999   32984600.0  24.344433\n",
       "2012-06-14  29.459999  28.879999  29.330000  29.340000   39458900.0  24.519939\n",
       "2012-06-15  30.080000  29.490000  29.590000  30.020000   62314400.0  25.088223\n",
       "2012-06-18  30.030001  29.709999  29.990000  29.840000   58679900.0  24.937798\n",
       "2012-06-19  31.110001  30.049999  30.190001  30.700001   75725800.0  25.656513\n",
       "2012-06-20  31.049999  30.639999  30.930000  30.930000   36257100.0  25.848724\n",
       "2012-06-21  31.139999  30.059999  30.959999  30.139999   48456600.0  25.188513\n",
       "2012-06-22  30.730000  30.030001  30.299999  30.700001   45098100.0  25.656513\n",
       "2012-06-25  30.320000  29.620001  30.299999  29.870001   42217200.0  24.962868\n",
       "2012-06-26  30.270000  29.940001  30.000000  30.020000   38421300.0  25.088223\n",
       "2012-06-27  30.500000  30.030001  30.190001  30.170000   33781700.0  25.213581\n",
       "2012-06-28  30.049999  29.420000  29.980000  29.910000   45328400.0  24.996296\n",
       "2012-06-29  30.690001  30.139999  30.450001  30.590000   55227200.0  25.564577\n",
       "2012-07-02  30.620001  30.209999  30.620001  30.559999   30589100.0  25.539513\n",
       "2012-07-03  30.760000  30.170000  30.230000  30.760000   20938100.0  25.706657\n",
       "2012-07-05  30.780001  30.379999  30.590000  30.700001   28801900.0  25.656513\n",
       "2012-07-06  30.700001  29.950001  30.610001  30.190001   38294800.0  25.230295\n",
       "2012-07-09  30.230000  29.780001  30.120001  30.000000   30680800.0  25.071507\n",
       "2012-07-10  30.219999  29.510000  30.080000  29.740000   37534100.0  24.854221\n",
       "2012-07-11  29.740000  29.110001  29.709999  29.299999   39184900.0  24.486507\n",
       "2012-07-12  29.180000  28.540001  29.150000  28.629999   63523600.0  23.926579\n",
       "2012-07-13  29.480000  28.719999  28.760000  29.389999   39085000.0  24.561728\n",
       "2012-07-16  29.530001  29.040001  29.480000  29.440001   27900600.0  24.603508\n",
       "2012-07-17  29.860001  29.200001  29.639999  29.660000   33771300.0  24.787371\n",
       "2012-07-18  30.450001  29.459999  29.600000  30.450001   41090400.0  25.447578\n",
       "2012-07-19  30.799999  30.379999  30.510000  30.670000   46663200.0  25.631439\n",
       "...               ...        ...        ...        ...          ...        ...\n",
       "2013-01-16  27.230000  27.010000  27.150000  27.040001   41077400.0  22.934414\n",
       "2013-01-17  27.469999  27.059999  27.190001  27.250000   51685900.0  23.112528\n",
       "2013-01-18  27.290001  27.040001  27.100000  27.250000   52167700.0  23.112528\n",
       "2013-01-22  27.450001  27.000000  27.299999  27.150000   58650600.0  23.027710\n",
       "2013-01-23  27.639999  27.200001  27.200001  27.610001   50387700.0  23.417864\n",
       "2013-01-24  28.070000  27.469999  27.700001  27.629999  101739300.0  23.434830\n",
       "2013-01-25  28.230000  27.389999  27.580000  27.879999   81847700.0  23.646870\n",
       "2013-01-28  28.230000  27.760000  28.010000  27.910000   56056500.0  23.672318\n",
       "2013-01-29  28.129999  27.600000  27.820000  28.010000   49242600.0  23.757130\n",
       "2013-01-30  28.190001  27.760000  28.010000  27.850000   43580500.0  23.621424\n",
       "2013-01-31  27.969999  27.400000  27.790001  27.450001   50530000.0  23.282162\n",
       "2013-02-01  28.049999  27.549999  27.670000  27.930000   55565900.0  23.689287\n",
       "2013-02-04  28.020000  27.420000  27.870001  27.440001   50540000.0  23.273678\n",
       "2013-02-05  27.660000  27.360001  27.620001  27.500000   35410400.0  23.324570\n",
       "2013-02-06  27.540001  27.250000  27.379999  27.340000   41889600.0  23.188860\n",
       "2013-02-07  27.389999  27.100000  27.350000  27.280001   38028300.0  23.137970\n",
       "2013-02-08  27.709999  27.309999  27.350000  27.549999   33318500.0  23.366976\n",
       "2013-02-11  27.920000  27.500000  27.650000  27.860001   32247700.0  23.629908\n",
       "2013-02-12  28.000000  27.750000  27.879999  27.879999   35990900.0  23.646870\n",
       "2013-02-13  28.110001  27.879999  27.930000  28.030001   41715600.0  23.774094\n",
       "2013-02-14  28.059999  27.870001  27.920000  28.040001   32663200.0  23.782583\n",
       "2013-02-15  28.160000  27.879999  28.040001  28.010000   49650900.0  23.757130\n",
       "2013-02-19  28.090000  27.799999  27.879999  28.049999   38781400.0  23.988035\n",
       "2013-02-20  28.200001  27.830000  28.129999  27.870001   44110200.0  23.834103\n",
       "2013-02-21  27.740000  27.230000  27.740000  27.490000   49078500.0  23.509130\n",
       "2013-02-22  27.760000  27.480000  27.680000  27.760000   31425900.0  23.740028\n",
       "2013-02-25  28.049999  27.370001  27.969999  27.370001   48011800.0  23.406507\n",
       "2013-02-26  27.600000  27.340000  27.379999  27.370001   49923300.0  23.406507\n",
       "2013-02-27  28.000000  27.330000  27.420000  27.809999   36394700.0  23.782784\n",
       "2013-02-28  27.969999  27.740000  27.879999  27.799999   35840200.0  23.774239\n",
       "\n",
       "[182 rows x 6 columns]"
      ]
     },
     "execution_count": 55,
     "metadata": {},
     "output_type": "execute_result"
    }
   ],
   "source": [
    "stocks.truncate(before = \"2012-06-07\", after = \"2013-02-28\")"
   ]
  },
  {
   "cell_type": "markdown",
   "metadata": {},
   "source": [
    "## `pd.DateOffset` Objects"
   ]
  },
  {
   "cell_type": "code",
   "execution_count": 60,
   "metadata": {},
   "outputs": [
    {
     "data": {
      "text/html": [
       "<div>\n",
       "<style scoped>\n",
       "    .dataframe tbody tr th:only-of-type {\n",
       "        vertical-align: middle;\n",
       "    }\n",
       "\n",
       "    .dataframe tbody tr th {\n",
       "        vertical-align: top;\n",
       "    }\n",
       "\n",
       "    .dataframe thead th {\n",
       "        text-align: right;\n",
       "    }\n",
       "</style>\n",
       "<table border=\"1\" class=\"dataframe\">\n",
       "  <thead>\n",
       "    <tr style=\"text-align: right;\">\n",
       "      <th></th>\n",
       "      <th>High</th>\n",
       "      <th>Low</th>\n",
       "      <th>Open</th>\n",
       "      <th>Close</th>\n",
       "      <th>Volume</th>\n",
       "      <th>Adj Close</th>\n",
       "    </tr>\n",
       "    <tr>\n",
       "      <th>Date</th>\n",
       "      <th></th>\n",
       "      <th></th>\n",
       "      <th></th>\n",
       "      <th></th>\n",
       "      <th></th>\n",
       "      <th></th>\n",
       "    </tr>\n",
       "  </thead>\n",
       "  <tbody>\n",
       "    <tr>\n",
       "      <th>2020-01-23</th>\n",
       "      <td>221.490005</td>\n",
       "      <td>219.270004</td>\n",
       "      <td>220.750000</td>\n",
       "      <td>219.759995</td>\n",
       "      <td>11195000</td>\n",
       "      <td>219.759995</td>\n",
       "    </tr>\n",
       "    <tr>\n",
       "      <th>2020-01-24</th>\n",
       "      <td>221.779999</td>\n",
       "      <td>216.110001</td>\n",
       "      <td>220.800003</td>\n",
       "      <td>217.940002</td>\n",
       "      <td>11905800</td>\n",
       "      <td>217.940002</td>\n",
       "    </tr>\n",
       "    <tr>\n",
       "      <th>2020-01-27</th>\n",
       "      <td>216.059998</td>\n",
       "      <td>212.500000</td>\n",
       "      <td>213.100006</td>\n",
       "      <td>214.869995</td>\n",
       "      <td>13791100</td>\n",
       "      <td>214.869995</td>\n",
       "    </tr>\n",
       "  </tbody>\n",
       "</table>\n",
       "</div>"
      ],
      "text/plain": [
       "                  High         Low        Open       Close    Volume  \\\n",
       "Date                                                                   \n",
       "2020-01-23  221.490005  219.270004  220.750000  219.759995  11195000   \n",
       "2020-01-24  221.779999  216.110001  220.800003  217.940002  11905800   \n",
       "2020-01-27  216.059998  212.500000  213.100006  214.869995  13791100   \n",
       "\n",
       "             Adj Close  \n",
       "Date                    \n",
       "2020-01-23  219.759995  \n",
       "2020-01-24  217.940002  \n",
       "2020-01-27  214.869995  "
      ]
     },
     "execution_count": 60,
     "metadata": {},
     "output_type": "execute_result"
    }
   ],
   "source": [
    "stocks = data.DataReader(name = \"FB\", data_source = \"yahoo\",\n",
    "                start = dt.date(2000, 1, 1), end = dt.datetime.now())\n",
    "stocks.tail(3)"
   ]
  },
  {
   "cell_type": "code",
   "execution_count": 61,
   "metadata": {},
   "outputs": [
    {
     "data": {
      "text/plain": [
       "DatetimeIndex(['2012-05-18', '2012-05-21', '2012-05-22', '2012-05-23',\n",
       "               '2012-05-24', '2012-05-25', '2012-05-29', '2012-05-30',\n",
       "               '2012-05-31', '2012-06-01',\n",
       "               ...\n",
       "               '2020-01-13', '2020-01-14', '2020-01-15', '2020-01-16',\n",
       "               '2020-01-17', '2020-01-21', '2020-01-22', '2020-01-23',\n",
       "               '2020-01-24', '2020-01-27'],\n",
       "              dtype='datetime64[ns]', name='Date', length=1934, freq=None)"
      ]
     },
     "execution_count": 61,
     "metadata": {},
     "output_type": "execute_result"
    }
   ],
   "source": [
    "stocks.index"
   ]
  },
  {
   "cell_type": "code",
   "execution_count": 62,
   "metadata": {},
   "outputs": [
    {
     "data": {
      "text/plain": [
       "DatetimeIndex(['2018-01-30 03:42:00', '2018-02-02 03:42:00',\n",
       "               '2018-02-03 03:42:00', '2018-02-04 03:42:00',\n",
       "               '2018-02-05 03:42:00', '2018-02-06 03:42:00',\n",
       "               '2018-02-10 03:42:00', '2018-02-11 03:42:00',\n",
       "               '2018-02-12 03:42:00', '2018-02-13 03:42:00',\n",
       "               ...\n",
       "               '2025-09-25 03:42:00', '2025-09-26 03:42:00',\n",
       "               '2025-09-27 03:42:00', '2025-09-28 03:42:00',\n",
       "               '2025-09-29 03:42:00', '2025-10-03 03:42:00',\n",
       "               '2025-10-04 03:42:00', '2025-10-05 03:42:00',\n",
       "               '2025-10-06 03:42:00', '2025-10-09 03:42:00'],\n",
       "              dtype='datetime64[ns]', name='Date', length=1934, freq=None)"
      ]
     },
     "execution_count": 62,
     "metadata": {},
     "output_type": "execute_result"
    }
   ],
   "source": [
    "stocks.index + pd.DateOffset(months = 8, years = 5, days = 12, hours = 3, minutes = 42)"
   ]
  },
  {
   "cell_type": "markdown",
   "metadata": {},
   "source": [
    "## More Fun with `pd.DateOffset` Objects"
   ]
  },
  {
   "cell_type": "code",
   "execution_count": 64,
   "metadata": {},
   "outputs": [],
   "source": [
    "import pandas as pd\n",
    "import datetime as dt\n",
    "from pandas_datareader import data\n",
    "from pandas.tseries.offsets import *"
   ]
  },
  {
   "cell_type": "code",
   "execution_count": 63,
   "metadata": {},
   "outputs": [
    {
     "data": {
      "text/html": [
       "<div>\n",
       "<style scoped>\n",
       "    .dataframe tbody tr th:only-of-type {\n",
       "        vertical-align: middle;\n",
       "    }\n",
       "\n",
       "    .dataframe tbody tr th {\n",
       "        vertical-align: top;\n",
       "    }\n",
       "\n",
       "    .dataframe thead th {\n",
       "        text-align: right;\n",
       "    }\n",
       "</style>\n",
       "<table border=\"1\" class=\"dataframe\">\n",
       "  <thead>\n",
       "    <tr style=\"text-align: right;\">\n",
       "      <th></th>\n",
       "      <th>High</th>\n",
       "      <th>Low</th>\n",
       "      <th>Open</th>\n",
       "      <th>Close</th>\n",
       "      <th>Volume</th>\n",
       "      <th>Adj Close</th>\n",
       "    </tr>\n",
       "    <tr>\n",
       "      <th>Date</th>\n",
       "      <th></th>\n",
       "      <th></th>\n",
       "      <th></th>\n",
       "      <th></th>\n",
       "      <th></th>\n",
       "      <th></th>\n",
       "    </tr>\n",
       "  </thead>\n",
       "  <tbody>\n",
       "    <tr>\n",
       "      <th>1999-12-31</th>\n",
       "      <td>79.3750</td>\n",
       "      <td>76.000000</td>\n",
       "      <td>79.3125</td>\n",
       "      <td>76.1250</td>\n",
       "      <td>7270700</td>\n",
       "      <td>76.1250</td>\n",
       "    </tr>\n",
       "    <tr>\n",
       "      <th>2000-01-03</th>\n",
       "      <td>89.5625</td>\n",
       "      <td>79.046875</td>\n",
       "      <td>81.5000</td>\n",
       "      <td>89.3750</td>\n",
       "      <td>16117600</td>\n",
       "      <td>89.3750</td>\n",
       "    </tr>\n",
       "    <tr>\n",
       "      <th>2000-01-04</th>\n",
       "      <td>91.5000</td>\n",
       "      <td>81.750000</td>\n",
       "      <td>85.3750</td>\n",
       "      <td>81.9375</td>\n",
       "      <td>17487400</td>\n",
       "      <td>81.9375</td>\n",
       "    </tr>\n",
       "  </tbody>\n",
       "</table>\n",
       "</div>"
      ],
      "text/plain": [
       "               High        Low     Open    Close    Volume  Adj Close\n",
       "Date                                                                 \n",
       "1999-12-31  79.3750  76.000000  79.3125  76.1250   7270700    76.1250\n",
       "2000-01-03  89.5625  79.046875  81.5000  89.3750  16117600    89.3750\n",
       "2000-01-04  91.5000  81.750000  85.3750  81.9375  17487400    81.9375"
      ]
     },
     "execution_count": 63,
     "metadata": {},
     "output_type": "execute_result"
    }
   ],
   "source": [
    "stocks = data.DataReader(name = \"AMZN\", data_source = \"yahoo\",\n",
    "                start = dt.date(2000, 1, 1), end = dt.datetime.now())\n",
    "\n",
    "stocks.head(3)"
   ]
  },
  {
   "cell_type": "code",
   "execution_count": 74,
   "metadata": {},
   "outputs": [
    {
     "data": {
      "text/plain": [
       "DatetimeIndex(['2000-03-01', '2000-03-01', '2000-03-01', '2000-03-01',\n",
       "               '2000-03-01', '2000-03-01', '2000-03-01', '2000-03-01',\n",
       "               '2000-03-01', '2000-03-01',\n",
       "               ...\n",
       "               '2020-03-01', '2020-03-01', '2020-03-01', '2020-03-01',\n",
       "               '2020-03-01', '2020-03-01', '2020-03-01', '2020-03-01',\n",
       "               '2020-03-01', '2020-03-01'],\n",
       "              dtype='datetime64[ns]', name='Date', length=5049, freq=None)"
      ]
     },
     "execution_count": 74,
     "metadata": {},
     "output_type": "execute_result"
    }
   ],
   "source": [
    "stocks.index - MonthEnd()\n",
    "stocks.index - BMonthEnd()\n",
    "stocks.index - QuarterEnd()\n",
    "stocks.index + QuarterBegin()"
   ]
  },
  {
   "cell_type": "code",
   "execution_count": 75,
   "metadata": {},
   "outputs": [
    {
     "data": {
      "text/plain": [
       "DatetimeIndex(['2000-01-01', '2001-01-01', '2001-01-01', '2001-01-01',\n",
       "               '2001-01-01', '2001-01-01', '2001-01-01', '2001-01-01',\n",
       "               '2001-01-01', '2001-01-01',\n",
       "               ...\n",
       "               '2021-01-01', '2021-01-01', '2021-01-01', '2021-01-01',\n",
       "               '2021-01-01', '2021-01-01', '2021-01-01', '2021-01-01',\n",
       "               '2021-01-01', '2021-01-01'],\n",
       "              dtype='datetime64[ns]', name='Date', length=5049, freq=None)"
      ]
     },
     "execution_count": 75,
     "metadata": {},
     "output_type": "execute_result"
    }
   ],
   "source": [
    "stocks.index + YearBegin()"
   ]
  },
  {
   "cell_type": "markdown",
   "metadata": {},
   "source": [
    "## The `Timedelta` Object"
   ]
  },
  {
   "cell_type": "code",
   "execution_count": 215,
   "metadata": {},
   "outputs": [],
   "source": [
    "timeA = pd.Timestamp(\"2016-03-31 04:35:16 PM\")\n",
    "timeB = pd.Timestamp(\"2016-03-20 02:16:49 AM\")"
   ]
  },
  {
   "cell_type": "code",
   "execution_count": 219,
   "metadata": {},
   "outputs": [
    {
     "data": {
      "text/plain": [
       "Timedelta('-12 days +09:41:33')"
      ]
     },
     "execution_count": 219,
     "metadata": {},
     "output_type": "execute_result"
    }
   ],
   "source": [
    "timeB - timeA"
   ]
  },
  {
   "cell_type": "code",
   "execution_count": 217,
   "metadata": {},
   "outputs": [
    {
     "data": {
      "text/plain": [
       "pandas.tslib.Timedelta"
      ]
     },
     "execution_count": 217,
     "metadata": {},
     "output_type": "execute_result"
    }
   ],
   "source": [
    "type(timeA - timeB)"
   ]
  },
  {
   "cell_type": "code",
   "execution_count": 218,
   "metadata": {},
   "outputs": [
    {
     "data": {
      "text/plain": [
       "pandas.tslib.Timestamp"
      ]
     },
     "execution_count": 218,
     "metadata": {},
     "output_type": "execute_result"
    }
   ],
   "source": [
    "type(timeA)"
   ]
  },
  {
   "cell_type": "code",
   "execution_count": 227,
   "metadata": {},
   "outputs": [
    {
     "data": {
      "text/plain": [
       "Timedelta('59 days 12:45:00')"
      ]
     },
     "execution_count": 227,
     "metadata": {},
     "output_type": "execute_result"
    }
   ],
   "source": [
    "pd.Timedelta(weeks = 8, days = 3, hours = 12, minutes = 45)"
   ]
  },
  {
   "cell_type": "code",
   "execution_count": 226,
   "metadata": {},
   "outputs": [
    {
     "data": {
      "text/plain": [
       "Timedelta('14 days 06:12:49')"
      ]
     },
     "execution_count": 226,
     "metadata": {},
     "output_type": "execute_result"
    }
   ],
   "source": [
    "pd.Timedelta(\"14 days 6 hours 12 minutes 49 seconds\")"
   ]
  },
  {
   "cell_type": "markdown",
   "metadata": {},
   "source": [
    "## `Timedeltas` in a Dataset"
   ]
  },
  {
   "cell_type": "code",
   "execution_count": 27,
   "metadata": {},
   "outputs": [
    {
     "data": {
      "text/html": [
       "<div>\n",
       "<style scoped>\n",
       "    .dataframe tbody tr th:only-of-type {\n",
       "        vertical-align: middle;\n",
       "    }\n",
       "\n",
       "    .dataframe tbody tr th {\n",
       "        vertical-align: top;\n",
       "    }\n",
       "\n",
       "    .dataframe thead th {\n",
       "        text-align: right;\n",
       "    }\n",
       "</style>\n",
       "<table border=\"1\" class=\"dataframe\">\n",
       "  <thead>\n",
       "    <tr style=\"text-align: right;\">\n",
       "      <th></th>\n",
       "      <th>order_date</th>\n",
       "      <th>delivery_date</th>\n",
       "    </tr>\n",
       "    <tr>\n",
       "      <th>ID</th>\n",
       "      <th></th>\n",
       "      <th></th>\n",
       "    </tr>\n",
       "  </thead>\n",
       "  <tbody>\n",
       "    <tr>\n",
       "      <th>1</th>\n",
       "      <td>1998-05-24</td>\n",
       "      <td>1999-02-05</td>\n",
       "    </tr>\n",
       "    <tr>\n",
       "      <th>2</th>\n",
       "      <td>1992-04-22</td>\n",
       "      <td>1998-03-06</td>\n",
       "    </tr>\n",
       "    <tr>\n",
       "      <th>4</th>\n",
       "      <td>1991-02-10</td>\n",
       "      <td>1992-08-26</td>\n",
       "    </tr>\n",
       "  </tbody>\n",
       "</table>\n",
       "</div>"
      ],
      "text/plain": [
       "   order_date delivery_date\n",
       "ID                         \n",
       "1  1998-05-24    1999-02-05\n",
       "2  1992-04-22    1998-03-06\n",
       "4  1991-02-10    1992-08-26"
      ]
     },
     "execution_count": 27,
     "metadata": {},
     "output_type": "execute_result"
    }
   ],
   "source": [
    "shipping = pd.read_csv(\"ecommerce.csv\", index_col = \"ID\", parse_dates = [\"order_date\", \"delivery_date\"])\n",
    "shipping.head(3)"
   ]
  },
  {
   "cell_type": "code",
   "execution_count": 42,
   "metadata": {},
   "outputs": [],
   "source": [
    "shipping[\"Delivery Time\"] = shipping[\"delivery_date\"] - shipping[\"order_date\"]"
   ]
  },
  {
   "cell_type": "code",
   "execution_count": 44,
   "metadata": {},
   "outputs": [
    {
     "data": {
      "text/html": [
       "<div>\n",
       "<style scoped>\n",
       "    .dataframe tbody tr th:only-of-type {\n",
       "        vertical-align: middle;\n",
       "    }\n",
       "\n",
       "    .dataframe tbody tr th {\n",
       "        vertical-align: top;\n",
       "    }\n",
       "\n",
       "    .dataframe thead th {\n",
       "        text-align: right;\n",
       "    }\n",
       "</style>\n",
       "<table border=\"1\" class=\"dataframe\">\n",
       "  <thead>\n",
       "    <tr style=\"text-align: right;\">\n",
       "      <th></th>\n",
       "      <th>order_date</th>\n",
       "      <th>delivery_date</th>\n",
       "      <th>Delivery Time</th>\n",
       "    </tr>\n",
       "    <tr>\n",
       "      <th>ID</th>\n",
       "      <th></th>\n",
       "      <th></th>\n",
       "      <th></th>\n",
       "    </tr>\n",
       "  </thead>\n",
       "  <tbody>\n",
       "    <tr>\n",
       "      <th>1</th>\n",
       "      <td>1998-05-24</td>\n",
       "      <td>1999-02-05</td>\n",
       "      <td>257 days</td>\n",
       "    </tr>\n",
       "    <tr>\n",
       "      <th>2</th>\n",
       "      <td>1992-04-22</td>\n",
       "      <td>1998-03-06</td>\n",
       "      <td>2144 days</td>\n",
       "    </tr>\n",
       "    <tr>\n",
       "      <th>4</th>\n",
       "      <td>1991-02-10</td>\n",
       "      <td>1992-08-26</td>\n",
       "      <td>563 days</td>\n",
       "    </tr>\n",
       "    <tr>\n",
       "      <th>5</th>\n",
       "      <td>1992-07-21</td>\n",
       "      <td>1997-11-20</td>\n",
       "      <td>1948 days</td>\n",
       "    </tr>\n",
       "    <tr>\n",
       "      <th>7</th>\n",
       "      <td>1993-09-02</td>\n",
       "      <td>1998-06-10</td>\n",
       "      <td>1742 days</td>\n",
       "    </tr>\n",
       "    <tr>\n",
       "      <th>8</th>\n",
       "      <td>1993-06-10</td>\n",
       "      <td>1993-11-11</td>\n",
       "      <td>154 days</td>\n",
       "    </tr>\n",
       "    <tr>\n",
       "      <th>9</th>\n",
       "      <td>1990-01-25</td>\n",
       "      <td>1994-10-02</td>\n",
       "      <td>1711 days</td>\n",
       "    </tr>\n",
       "    <tr>\n",
       "      <th>10</th>\n",
       "      <td>1992-02-23</td>\n",
       "      <td>1998-12-30</td>\n",
       "      <td>2502 days</td>\n",
       "    </tr>\n",
       "    <tr>\n",
       "      <th>11</th>\n",
       "      <td>1996-07-12</td>\n",
       "      <td>1997-07-14</td>\n",
       "      <td>367 days</td>\n",
       "    </tr>\n",
       "  </tbody>\n",
       "</table>\n",
       "</div>"
      ],
      "text/plain": [
       "   order_date delivery_date Delivery Time\n",
       "ID                                       \n",
       "1  1998-05-24    1999-02-05      257 days\n",
       "2  1992-04-22    1998-03-06     2144 days\n",
       "4  1991-02-10    1992-08-26      563 days\n",
       "5  1992-07-21    1997-11-20     1948 days\n",
       "7  1993-09-02    1998-06-10     1742 days\n",
       "8  1993-06-10    1993-11-11      154 days\n",
       "9  1990-01-25    1994-10-02     1711 days\n",
       "10 1992-02-23    1998-12-30     2502 days\n",
       "11 1996-07-12    1997-07-14      367 days"
      ]
     },
     "execution_count": 44,
     "metadata": {},
     "output_type": "execute_result"
    }
   ],
   "source": [
    "shipping.head(9)"
   ]
  },
  {
   "cell_type": "code",
   "execution_count": 249,
   "metadata": {},
   "outputs": [],
   "source": [
    "shipping[\"Twice As Long\"] = shipping[\"delivery_date\"] + shipping[\"Delivery Time\"]"
   ]
  },
  {
   "cell_type": "code",
   "execution_count": 250,
   "metadata": {},
   "outputs": [
    {
     "data": {
      "text/html": [
       "<div>\n",
       "<table border=\"1\" class=\"dataframe\">\n",
       "  <thead>\n",
       "    <tr style=\"text-align: right;\">\n",
       "      <th></th>\n",
       "      <th>order_date</th>\n",
       "      <th>delivery_date</th>\n",
       "      <th>Delivery Time</th>\n",
       "      <th>Twice As Long</th>\n",
       "    </tr>\n",
       "    <tr>\n",
       "      <th>ID</th>\n",
       "      <th></th>\n",
       "      <th></th>\n",
       "      <th></th>\n",
       "      <th></th>\n",
       "    </tr>\n",
       "  </thead>\n",
       "  <tbody>\n",
       "    <tr>\n",
       "      <th>1</th>\n",
       "      <td>1998-05-24</td>\n",
       "      <td>1999-02-05</td>\n",
       "      <td>257 days</td>\n",
       "      <td>1999-10-20</td>\n",
       "    </tr>\n",
       "    <tr>\n",
       "      <th>2</th>\n",
       "      <td>1992-04-22</td>\n",
       "      <td>1998-03-06</td>\n",
       "      <td>2144 days</td>\n",
       "      <td>2004-01-18</td>\n",
       "    </tr>\n",
       "    <tr>\n",
       "      <th>4</th>\n",
       "      <td>1991-02-10</td>\n",
       "      <td>1992-08-26</td>\n",
       "      <td>563 days</td>\n",
       "      <td>1994-03-12</td>\n",
       "    </tr>\n",
       "  </tbody>\n",
       "</table>\n",
       "</div>"
      ],
      "text/plain": [
       "   order_date delivery_date  Delivery Time Twice As Long\n",
       "ID                                                      \n",
       "1  1998-05-24    1999-02-05       257 days    1999-10-20\n",
       "2  1992-04-22    1998-03-06      2144 days    2004-01-18\n",
       "4  1991-02-10    1992-08-26       563 days    1994-03-12"
      ]
     },
     "execution_count": 250,
     "metadata": {},
     "output_type": "execute_result"
    }
   ],
   "source": [
    "shipping.head(3)"
   ]
  },
  {
   "cell_type": "code",
   "execution_count": 251,
   "metadata": {},
   "outputs": [
    {
     "data": {
      "text/plain": [
       "order_date        datetime64[ns]\n",
       "delivery_date     datetime64[ns]\n",
       "Delivery Time    timedelta64[ns]\n",
       "Twice As Long     datetime64[ns]\n",
       "dtype: object"
      ]
     },
     "execution_count": 251,
     "metadata": {},
     "output_type": "execute_result"
    }
   ],
   "source": [
    "shipping.dtypes"
   ]
  },
  {
   "cell_type": "code",
   "execution_count": 53,
   "metadata": {},
   "outputs": [
    {
     "data": {
      "text/html": [
       "<div>\n",
       "<style scoped>\n",
       "    .dataframe tbody tr th:only-of-type {\n",
       "        vertical-align: middle;\n",
       "    }\n",
       "\n",
       "    .dataframe tbody tr th {\n",
       "        vertical-align: top;\n",
       "    }\n",
       "\n",
       "    .dataframe thead th {\n",
       "        text-align: right;\n",
       "    }\n",
       "</style>\n",
       "<table border=\"1\" class=\"dataframe\">\n",
       "  <thead>\n",
       "    <tr style=\"text-align: right;\">\n",
       "      <th></th>\n",
       "      <th>order_date</th>\n",
       "      <th>delivery_date</th>\n",
       "      <th>Delivery Time</th>\n",
       "    </tr>\n",
       "    <tr>\n",
       "      <th>ID</th>\n",
       "      <th></th>\n",
       "      <th></th>\n",
       "      <th></th>\n",
       "    </tr>\n",
       "  </thead>\n",
       "  <tbody>\n",
       "  </tbody>\n",
       "</table>\n",
       "</div>"
      ],
      "text/plain": [
       "Empty DataFrame\n",
       "Columns: [order_date, delivery_date, Delivery Time]\n",
       "Index: []"
      ]
     },
     "execution_count": 53,
     "metadata": {},
     "output_type": "execute_result"
    }
   ],
   "source": [
    "mask = shipping[\"Delivery Time\"] == \"500 days\"\n",
    "shipping[mask]"
   ]
  },
  {
   "cell_type": "code",
   "execution_count": 260,
   "metadata": {},
   "outputs": [
    {
     "data": {
      "text/plain": [
       "Timedelta('8 days 00:00:00')"
      ]
     },
     "execution_count": 260,
     "metadata": {},
     "output_type": "execute_result"
    }
   ],
   "source": [
    "shipping[\"Delivery Time\"].min()"
   ]
  },
  {
   "cell_type": "code",
   "execution_count": 46,
   "metadata": {},
   "outputs": [
    {
     "data": {
      "text/plain": [
       "Timedelta('3583 days 00:00:00')"
      ]
     },
     "execution_count": 46,
     "metadata": {},
     "output_type": "execute_result"
    }
   ],
   "source": [
    "shipping[\"Delivery Time\"].max()"
   ]
  },
  {
   "cell_type": "code",
   "execution_count": null,
   "metadata": {
    "collapsed": true
   },
   "outputs": [],
   "source": []
  }
 ],
 "metadata": {
  "anaconda-cloud": {},
  "kernelspec": {
   "display_name": "Python 3",
   "language": "python",
   "name": "python3"
  },
  "language_info": {
   "codemirror_mode": {
    "name": "ipython",
    "version": 3
   },
   "file_extension": ".py",
   "mimetype": "text/x-python",
   "name": "python",
   "nbconvert_exporter": "python",
   "pygments_lexer": "ipython3",
   "version": "3.7.2"
  }
 },
 "nbformat": 4,
 "nbformat_minor": 1
}
