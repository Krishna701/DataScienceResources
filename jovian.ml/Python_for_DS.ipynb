{
 "cells": [
  {
   "cell_type": "code",
   "execution_count": 4,
   "metadata": {},
   "outputs": [
    {
     "data": {
      "text/plain": [
       "'Krishna rijal'"
      ]
     },
     "execution_count": 4,
     "metadata": {},
     "output_type": "execute_result"
    }
   ],
   "source": [
    "name = \"Krishna lamgali tmang Rijal\".split(\" \")[0]\n",
    "surname = 'krishna is a good rijal'.split(\" \")[-1]\n",
    "name +' ' + surname"
   ]
  },
  {
   "cell_type": "code",
   "execution_count": 6,
   "metadata": {},
   "outputs": [],
   "source": [
    "name = {\n",
    "    'krishna rijal' : 'krishnarijal@gmail.com',\n",
    "    'nikita rijal' : 'nikitarijal@gmail.com',\n",
    "    'sumitra shrestha' : 'sumitrashrestha@gmail.com',\n",
    "    'prabal rai' : 'prabalrai@gmail.com',\n",
    "    'arjun shrestha' : 'arjunshrestha@gmail.com',\n",
    "    'anusha wagle' : 'anushawagle@gmail.com'\n",
    "}\n",
    "\n"
   ]
  },
  {
   "cell_type": "code",
   "execution_count": 7,
   "metadata": {},
   "outputs": [
    {
     "name": "stdout",
     "output_type": "stream",
     "text": [
      "krishnarijal@gmail.com\n",
      "nikitarijal@gmail.com\n",
      "sumitrashrestha@gmail.com\n",
      "prabalrai@gmail.com\n",
      "arjunshrestha@gmail.com\n",
      "anushawagle@gmail.com\n"
     ]
    }
   ],
   "source": [
    "for i in name:\n",
    "    print(name[i])\n",
    "    "
   ]
  },
  {
   "cell_type": "code",
   "execution_count": 9,
   "metadata": {},
   "outputs": [
    {
     "name": "stdout",
     "output_type": "stream",
     "text": [
      "krishnarijal@gmail.com\n",
      "nikitarijal@gmail.com\n",
      "sumitrashrestha@gmail.com\n",
      "prabalrai@gmail.com\n",
      "arjunshrestha@gmail.com\n",
      "anushawagle@gmail.com\n"
     ]
    }
   ],
   "source": [
    "for email in name.values():\n",
    "    print(email)"
   ]
  },
  {
   "cell_type": "code",
   "execution_count": 10,
   "metadata": {},
   "outputs": [
    {
     "name": "stdout",
     "output_type": "stream",
     "text": [
      "krishna rijal\n",
      "krishnarijal@gmail.com\n",
      "nikita rijal\n",
      "nikitarijal@gmail.com\n",
      "sumitra shrestha\n",
      "sumitrashrestha@gmail.com\n",
      "prabal rai\n",
      "prabalrai@gmail.com\n",
      "arjun shrestha\n",
      "arjunshrestha@gmail.com\n",
      "anusha wagle\n",
      "anushawagle@gmail.com\n"
     ]
    }
   ],
   "source": [
    "for names, email in name.items():\n",
    "    print(names)\n",
    "    print(email)"
   ]
  },
  {
   "cell_type": "code",
   "execution_count": 11,
   "metadata": {},
   "outputs": [],
   "source": [
    "x= ('krishna', 'rijal', 'krishnarijak@email.com')\n",
    "fname, lname, email = x\n"
   ]
  },
  {
   "cell_type": "code",
   "execution_count": 12,
   "metadata": {},
   "outputs": [
    {
     "data": {
      "text/plain": [
       "'krishna'"
      ]
     },
     "execution_count": 12,
     "metadata": {},
     "output_type": "execute_result"
    }
   ],
   "source": [
    "fname"
   ]
  },
  {
   "cell_type": "code",
   "execution_count": 13,
   "metadata": {},
   "outputs": [
    {
     "data": {
      "text/plain": [
       "'rijal'"
      ]
     },
     "execution_count": 13,
     "metadata": {},
     "output_type": "execute_result"
    }
   ],
   "source": [
    "lname"
   ]
  },
  {
   "cell_type": "code",
   "execution_count": 14,
   "metadata": {},
   "outputs": [
    {
     "data": {
      "text/plain": [
       "'krishnarijak@email.com'"
      ]
     },
     "execution_count": 14,
     "metadata": {},
     "output_type": "execute_result"
    }
   ],
   "source": [
    "email"
   ]
  },
  {
   "cell_type": "markdown",
   "metadata": {},
   "source": [
    "# More on python string"
   ]
  },
  {
   "cell_type": "code",
   "execution_count": 15,
   "metadata": {},
   "outputs": [
    {
     "name": "stdout",
     "output_type": "stream",
     "text": [
      "cristopher bought 5 items at a price of 44.5 each for a total of 222.5\n"
     ]
    }
   ],
   "source": [
    "sales_record = {\n",
    "    'price' : 44.5,\n",
    "    'items' : 5,\n",
    "    'name' : 'cristopher'\n",
    "}\n",
    "\n",
    "statement = '{} bought {} items at a price of {} each for a total of {}'\n",
    "\n",
    "print(statement.format(sales_record['name'],\n",
    "                       sales_record['items'],\n",
    "                       sales_record['price'],\n",
    "                       sales_record['items']*sales_record['price']))"
   ]
  },
  {
   "cell_type": "code",
   "execution_count": null,
   "metadata": {},
   "outputs": [],
   "source": []
  }
 ],
 "metadata": {
  "kernelspec": {
   "display_name": "Python 3",
   "language": "python",
   "name": "python3"
  },
  "language_info": {
   "codemirror_mode": {
    "name": "ipython",
    "version": 3
   },
   "file_extension": ".py",
   "mimetype": "text/x-python",
   "name": "python",
   "nbconvert_exporter": "python",
   "pygments_lexer": "ipython3",
   "version": "3.8.5"
  }
 },
 "nbformat": 4,
 "nbformat_minor": 4
}
