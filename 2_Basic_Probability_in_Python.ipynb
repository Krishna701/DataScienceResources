{
 "cells": [
  {
   "cell_type": "markdown",
   "metadata": {
    "colab_type": "text",
    "id": "sx6sf_T4edFb"
   },
   "source": [
    "# Importing Datasets in Google Colab and Basic Probability in Python"
   ]
  },
  {
   "cell_type": "code",
   "execution_count": 0,
   "metadata": {
    "colab": {},
    "colab_type": "code",
    "id": "GQBTo7lMcCg5"
   },
   "outputs": [],
   "source": [
    "# import all necessary packages. Although not necessary, \n",
    "# it is customary to have all the imports on top.\n",
    "import random\n",
    "import pandas as pd "
   ]
  },
  {
   "cell_type": "markdown",
   "metadata": {
    "colab_type": "text",
    "id": "CnfUCDXrgeLx"
   },
   "source": [
    "##Using Random Integers for Simulations"
   ]
  },
  {
   "cell_type": "code",
   "execution_count": 0,
   "metadata": {
    "colab": {},
    "colab_type": "code",
    "id": "syqum79-cMTE"
   },
   "outputs": [],
   "source": [
    "# simulate a coin flip\n",
    "# what is the sample space for a coin flip?\n",
    "random.randint(0,1)"
   ]
  },
  {
   "cell_type": "markdown",
   "metadata": {
    "colab_type": "text",
    "id": "BzUlKqDmfILl"
   },
   "source": [
    "Answer this: What is the probability of head in a fair coin toss?"
   ]
  },
  {
   "cell_type": "code",
   "execution_count": 0,
   "metadata": {
    "colab": {},
    "colab_type": "code",
    "id": "TvEGU8AMcak3"
   },
   "outputs": [],
   "source": [
    "# simulate a dice roll\n",
    "# What should the ending parameter be based on the sample space?\n",
    "random.randint(1, )"
   ]
  },
  {
   "cell_type": "markdown",
   "metadata": {
    "colab_type": "text",
    "id": "GeOITg1MfSZK"
   },
   "source": [
    "Answer this: What is the probability of 1 in a fair dice throw?"
   ]
  },
  {
   "cell_type": "markdown",
   "metadata": {
    "colab_type": "text",
    "id": "mk_jU2H5e73c"
   },
   "source": [
    "There are 8 red balls, 5 green balls and 3 blue balls in a bag. What is the probability that a red ball is drawn at random?"
   ]
  },
  {
   "cell_type": "code",
   "execution_count": 0,
   "metadata": {
    "colab": {},
    "colab_type": "code",
    "id": "Xx2Tx85xe8fw"
   },
   "outputs": [],
   "source": [
    "no_of_red_balls = \n",
    "no_of_green_balls = \n",
    "no_of_blue_balls = "
   ]
  },
  {
   "cell_type": "code",
   "execution_count": 0,
   "metadata": {
    "colab": {},
    "colab_type": "code",
    "id": "uMsvsuGtfXl7"
   },
   "outputs": [],
   "source": [
    "# Add all the balls in the bag\n",
    "total_balls = no_of_red_balls + no_of_green_balls + no_of_blue_balls"
   ]
  },
  {
   "cell_type": "code",
   "execution_count": 0,
   "metadata": {
    "colab": {},
    "colab_type": "code",
    "id": "NCQ-8MtQfkjH"
   },
   "outputs": [],
   "source": [
    "# What is the probability of red balls being drawn at random\n",
    "probability_red = "
   ]
  },
  {
   "cell_type": "code",
   "execution_count": 0,
   "metadata": {
    "colab": {},
    "colab_type": "code",
    "id": "QuU839ZzfqcA"
   },
   "outputs": [],
   "source": [
    "print (probability_red)"
   ]
  },
  {
   "cell_type": "markdown",
   "metadata": {
    "colab_type": "text",
    "id": "EVtQfp3Wg3eM"
   },
   "source": [
    "## Monte Carlo Simulation"
   ]
  },
  {
   "cell_type": "code",
   "execution_count": 0,
   "metadata": {
    "colab": {},
    "colab_type": "code",
    "id": "gQsOZbJUg7WV"
   },
   "outputs": [],
   "source": [
    "iteration = 5\n",
    "head = 0\n",
    "for i in range(iteration):\n",
    "  flip = random.randint(0,1)\n",
    "  if flip==1:\n",
    "    head = head + 1\n",
    "print (head/iteration)"
   ]
  },
  {
   "cell_type": "markdown",
   "metadata": {
    "colab_type": "text",
    "id": "uf6HkAOgjp0O"
   },
   "source": [
    "Repeat the process by incresing the number of iteration. What do you observe?"
   ]
  },
  {
   "cell_type": "markdown",
   "metadata": {},
   "source": [
    "# Import file as df"
   ]
  },
  {
   "cell_type": "code",
   "execution_count": 0,
   "metadata": {
    "colab": {},
    "colab_type": "code",
    "id": "C5bXzzVRtWm8"
   },
   "outputs": [],
   "source": [
    "path = \"faculty-wise-total-student-enrollment-in-higher-education-by-province-in-2074bs.csv\"\n",
    "df = pd.read_csv(path)"
   ]
  },
  {
   "cell_type": "code",
   "execution_count": 0,
   "metadata": {
    "colab": {},
    "colab_type": "code",
    "id": "BMp4K5Y0x1k6"
   },
   "outputs": [],
   "source": [
    "df"
   ]
  },
  {
   "cell_type": "code",
   "execution_count": 0,
   "metadata": {
    "colab": {},
    "colab_type": "code",
    "id": "KH54ojgTx2Mx"
   },
   "outputs": [],
   "source": [
    "# what are the number of rows and columns? \n",
    "# shape returns a tuple with the number of rows and columns, index 0 has number \n",
    "# of rows, and index 1 has the number of columns.\n",
    "# To just print the number of rows, we could df.shape[0]\n",
    "\n",
    "df.shape"
   ]
  },
  {
   "cell_type": "code",
   "execution_count": 0,
   "metadata": {
    "colab": {},
    "colab_type": "code",
    "id": "9ZNcXops493W"
   },
   "outputs": [],
   "source": [
    "df.sum()"
   ]
  },
  {
   "cell_type": "code",
   "execution_count": 0,
   "metadata": {
    "colab": {},
    "colab_type": "code",
    "id": "Bj6nyHRv4_t8"
   },
   "outputs": [],
   "source": [
    "df.describe()"
   ]
  },
  {
   "cell_type": "code",
   "execution_count": 0,
   "metadata": {
    "colab": {},
    "colab_type": "code",
    "id": "T6X0KCLL8ofx"
   },
   "outputs": [],
   "source": [
    "# What if you wanted the sum across the rows instead?\n",
    "\n",
    "df.sum(axis=1)"
   ]
  },
  {
   "cell_type": "code",
   "execution_count": 0,
   "metadata": {
    "colab": {},
    "colab_type": "code",
    "id": "nLMN0Q-q8zhv"
   },
   "outputs": [],
   "source": [
    "# What if you wanted the sum of all numeric variables?\n",
    "\n",
    "df.sum(axis=1).sum()"
   ]
  },
  {
   "cell_type": "markdown",
   "metadata": {
    "colab_type": "text",
    "id": "zEOQu8BGzEQ3"
   },
   "source": [
    "<h3>1. What is the probability of a student being enrolled in agriculture?<h3>\n",
    "<h4>Total number of students across all the faculties is $361077$ and the agriculture faculty has $945$ students. So, the probability is:</h4>\n",
    "$$ \\cfrac {945} {361077} = \\cfrac {315} {120359} = 0.0026 $$"
   ]
  },
  {
   "cell_type": "code",
   "execution_count": 0,
   "metadata": {
    "colab": {},
    "colab_type": "code",
    "id": "1LuSijrv8870"
   },
   "outputs": [],
   "source": [
    "df['Agriculture'].sum()"
   ]
  },
  {
   "cell_type": "code",
   "execution_count": 0,
   "metadata": {
    "colab": {},
    "colab_type": "code",
    "id": "JYSk7eLf9Eut"
   },
   "outputs": [],
   "source": [
    "df['Agriculture'].sum()/df.sum(axis=1).sum()"
   ]
  },
  {
   "cell_type": "markdown",
   "metadata": {
    "colab_type": "text",
    "id": "slICIU_V2q4q"
   },
   "source": [
    "<h3>2. What is the probability of a student being enrolled in engineering?<h3>\n"
   ]
  },
  {
   "cell_type": "code",
   "execution_count": 0,
   "metadata": {
    "colab": {},
    "colab_type": "code",
    "id": "gQzCi0OBfI47"
   },
   "outputs": [],
   "source": []
  },
  {
   "cell_type": "code",
   "execution_count": 0,
   "metadata": {
    "colab": {},
    "colab_type": "code",
    "id": "-44Z4KSCfIrs"
   },
   "outputs": [],
   "source": []
  },
  {
   "cell_type": "markdown",
   "metadata": {
    "colab_type": "text",
    "id": "PVyV3LWS2tm6"
   },
   "source": [
    "<h3>3. What is the probability of a student belonging to province \"Karnali\"?<h3>\n"
   ]
  },
  {
   "cell_type": "code",
   "execution_count": 0,
   "metadata": {
    "colab": {},
    "colab_type": "code",
    "id": "FKgmVaTQgKb8"
   },
   "outputs": [],
   "source": [
    "# Do the math"
   ]
  },
  {
   "cell_type": "code",
   "execution_count": 0,
   "metadata": {
    "colab": {},
    "colab_type": "code",
    "id": "IbNOCOAw9ahp"
   },
   "outputs": [],
   "source": [
    "df[df.Description=='Karnali']"
   ]
  },
  {
   "cell_type": "code",
   "execution_count": 0,
   "metadata": {
    "colab": {},
    "colab_type": "code",
    "id": "JQmAH92W-_26"
   },
   "outputs": [],
   "source": [
    "df[df.Description=='Karnali'].sum(axis=1)"
   ]
  },
  {
   "cell_type": "code",
   "execution_count": 0,
   "metadata": {
    "colab": {},
    "colab_type": "code",
    "id": "dQZIxBzP_Gx5"
   },
   "outputs": [],
   "source": [
    "df[df.Description=='Karnali'].sum(axis=1)/df.sum(axis=1).sum()"
   ]
  },
  {
   "cell_type": "markdown",
   "metadata": {
    "colab_type": "text",
    "id": "-xZ9IYCd2x6u"
   },
   "source": [
    "<h3>4. Given the probabilities of a student being enrolled in agriculture, and engineering, what is the probability of a student being enrolled in agriculture or engineering?</h3>\n",
    "<h4>As the two events do not occur at the same time in our case, the probability is the sum of the two probabilities. So, the probability of a student being enrolled in agriculture or engineering is:</h4>\n",
    "$$ \\cfrac {945} {361077} + \\cfrac {16931} {361077} = \\cfrac {17876} {361077} = 0.0495$$"
   ]
  },
  {
   "cell_type": "code",
   "execution_count": 0,
   "metadata": {
    "colab": {},
    "colab_type": "code",
    "id": "vip3CmAD_46n"
   },
   "outputs": [],
   "source": []
  },
  {
   "cell_type": "markdown",
   "metadata": {
    "colab_type": "text",
    "id": "a4QFD05Acrif"
   },
   "source": [
    "## Conditional Probabilities"
   ]
  },
  {
   "cell_type": "markdown",
   "metadata": {
    "colab_type": "text",
    "id": "3byYGnbfcrpu"
   },
   "source": [
    "### In the city of Softpur, the percentage of adults who are female and software developer is 12%. What is the probability of being a software developer in Softpur, given the gender is female? Assume equal probability among genders."
   ]
  },
  {
   "cell_type": "code",
   "execution_count": 0,
   "metadata": {
    "colab": {},
    "colab_type": "code",
    "id": "AiEOqxqecrtc"
   },
   "outputs": [],
   "source": [
    "# P(F intersection D)\n",
    "p_female_developer = 0.12"
   ]
  },
  {
   "cell_type": "code",
   "execution_count": 0,
   "metadata": {
    "colab": {},
    "colab_type": "code",
    "id": "ujhthH0ncrwy"
   },
   "outputs": [],
   "source": [
    "# P(F)\n",
    "p_female = 0.5"
   ]
  },
  {
   "cell_type": "code",
   "execution_count": 0,
   "metadata": {
    "colab": {},
    "colab_type": "code",
    "id": "6IkTxGaAcrzl"
   },
   "outputs": [],
   "source": [
    "# P(D|F)\n",
    "p_dev_given_female = p_female_developer/p_female"
   ]
  },
  {
   "cell_type": "code",
   "execution_count": 0,
   "metadata": {
    "colab": {},
    "colab_type": "code",
    "id": "OHfnIgaBcr2P"
   },
   "outputs": [],
   "source": [
    "print ('The probability of being a software dev if female: ', p_dev_given_female)"
   ]
  },
  {
   "cell_type": "markdown",
   "metadata": {
    "colab_type": "text",
    "id": "iMYj7bmBcr-1"
   },
   "source": [
    "### What is the probability of two children being girls if we are told that at least one is a girl?"
   ]
  },
  {
   "cell_type": "code",
   "execution_count": 0,
   "metadata": {
    "colab": {},
    "colab_type": "code",
    "id": "gDTosiz2csCk"
   },
   "outputs": [],
   "source": [
    "# What is it asking?\n",
    "# P(2 children being girls | 1 of them is a girl)\n",
    "# Sample space = {GG, GB, BG, BB}"
   ]
  },
  {
   "cell_type": "code",
   "execution_count": 0,
   "metadata": {
    "colab": {},
    "colab_type": "code",
    "id": "xaMljrXIc9Zy"
   },
   "outputs": [],
   "source": [
    "p_2_girls = 1/4"
   ]
  },
  {
   "cell_type": "code",
   "execution_count": 0,
   "metadata": {
    "colab": {},
    "colab_type": "code",
    "id": "c3dIePWec9fR"
   },
   "outputs": [],
   "source": [
    "p_at_least_1_girl = 3/4"
   ]
  },
  {
   "cell_type": "code",
   "execution_count": 0,
   "metadata": {
    "colab": {},
    "colab_type": "code",
    "id": "cJsAu128c9im"
   },
   "outputs": [],
   "source": [
    "p_2_girls_given_at_least_1_girl = p_2_girls/p_at_least_1_girl"
   ]
  },
  {
   "cell_type": "code",
   "execution_count": 0,
   "metadata": {
    "colab": {},
    "colab_type": "code",
    "id": "0zgyMQG9c9mA"
   },
   "outputs": [],
   "source": [
    "print ('The probability of two children being girls if we are told that at least one is a girl: ', p_2_girls_given_at_least_1_girl)"
   ]
  },
  {
   "cell_type": "markdown",
   "metadata": {
    "colab_type": "text",
    "id": "AqRCZ53lc9pU"
   },
   "source": [
    "### What is the probability of two children being girls if we are told that oldest is a girl?"
   ]
  },
  {
   "cell_type": "code",
   "execution_count": 0,
   "metadata": {
    "colab": {},
    "colab_type": "code",
    "id": "3_gwvjdKc9sn"
   },
   "outputs": [],
   "source": [
    "p_oldest_girl = 1/2"
   ]
  },
  {
   "cell_type": "code",
   "execution_count": 0,
   "metadata": {
    "colab": {},
    "colab_type": "code",
    "id": "7RTzOXmrcsFy"
   },
   "outputs": [],
   "source": [
    "p_2_girls_given_oldest_girl = p_2_girls/p_oldest_girl"
   ]
  },
  {
   "cell_type": "code",
   "execution_count": 0,
   "metadata": {
    "colab": {},
    "colab_type": "code",
    "id": "fXYrscTxdHIg"
   },
   "outputs": [],
   "source": [
    "print ('The probability of two children being girls if we are told that oldest is a girl: ', p_2_girls_given_oldest_girl)"
   ]
  },
  {
   "cell_type": "markdown",
   "metadata": {
    "colab_type": "text",
    "id": "KmfmAC1OdHPM"
   },
   "source": [
    "### The whole idea is to narrow the sample space."
   ]
  },
  {
   "cell_type": "markdown",
   "metadata": {
    "colab_type": "text",
    "id": "-FOF-o0R21Ha"
   },
   "source": [
    "<h3>5. Given a student is from province \"Karnali\", what is the probability that he enrolled in \"Education\" faculty?</h3>\n",
    "<h4>Given a student is from \"Karnali\", the probability of he being enrolled in \"Education\" faculty is the probability of getting enrolled in education faculty conditioned on he belonging to \"Karnali\" province. So, the conditional probability is:</h4>\n",
    "$$ P(Education|Karnali) = \\cfrac {P(Education \\cap Karnali)} {P(Karnali)} = \\cfrac {\\cfrac {7576} {361077}} {\\cfrac {11188} {361077}} = 0.6771$$"
   ]
  },
  {
   "cell_type": "code",
   "execution_count": 0,
   "metadata": {
    "colab": {},
    "colab_type": "code",
    "id": "arq-3lM0hHCb"
   },
   "outputs": [],
   "source": [
    "# P(Karnali)\n",
    "df[df.Description=='Karnali'].sum(axis=1)/df.sum(axis=1).sum()"
   ]
  },
  {
   "cell_type": "code",
   "execution_count": 0,
   "metadata": {
    "colab": {},
    "colab_type": "code",
    "id": "vSFEfhJNgfBu"
   },
   "outputs": [],
   "source": [
    "# P(Education intersection Karnali)\n",
    "df[df.Description=='Karnali'].Education/df.sum(axis=1).sum()"
   ]
  },
  {
   "cell_type": "code",
   "execution_count": 0,
   "metadata": {
    "colab": {},
    "colab_type": "code",
    "id": "x2Wz9QQUh568"
   },
   "outputs": [],
   "source": [
    "# Let's put it all together\n",
    "df[df.Description=='Karnali'].Education/df[df.Description=='Karnali'].sum(axis=1)"
   ]
  }
 ],
 "metadata": {
  "colab": {
   "collapsed_sections": [],
   "name": "2. Basic Probability in Python",
   "provenance": []
  },
  "kernelspec": {
   "display_name": "Python 3",
   "language": "python",
   "name": "python3"
  },
  "language_info": {
   "codemirror_mode": {
    "name": "ipython",
    "version": 3
   },
   "file_extension": ".py",
   "mimetype": "text/x-python",
   "name": "python",
   "nbconvert_exporter": "python",
   "pygments_lexer": "ipython3",
   "version": "3.7.2"
  }
 },
 "nbformat": 4,
 "nbformat_minor": 1
}
